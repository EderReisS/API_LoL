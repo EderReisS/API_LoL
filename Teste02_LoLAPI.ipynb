{
 "cells": [
  {
   "cell_type": "code",
   "execution_count": null,
   "id": "3cc50fed-81ca-43e7-b6fe-d3d3567d8561",
   "metadata": {},
   "outputs": [],
   "source": []
  },
  {
   "cell_type": "code",
   "execution_count": 59,
   "id": "0a8e7130-440b-4353-bd67-e3b8891ff24f",
   "metadata": {},
   "outputs": [],
   "source": [
    "import mwclient\n",
    "import time\n",
    "import datetime as dt\n",
    "from datetime import date, timedelta\n",
    "import pandas as pd\n",
    "import json"
   ]
  },
  {
   "cell_type": "code",
   "execution_count": 60,
   "id": "8b564d94-618d-4f19-bc29-d5e5ab0d04c3",
   "metadata": {},
   "outputs": [],
   "source": [
    "site = mwclient.Site('lol.fandom.com', path='/')"
   ]
  },
  {
   "cell_type": "code",
   "execution_count": 61,
   "id": "1d916bb8-2597-4063-9e01-9c641b7fca56",
   "metadata": {},
   "outputs": [],
   "source": [
    "response = site.api('cargoquery',\n",
    "\tlimit = '10',\n",
    "\ttables = \"ScoreboardGames=SG\",\n",
    "\tfields = \"SG.DateTime_UTC\",\n",
    "\t#where = \"SG.DateTime_UTC >= '2019-08-01 00:00:00'\" #Results after Aug 1, 2019\n",
    "    #order_by = \"SG.DateTime_UTC\"\n",
    ")"
   ]
  },
  {
   "cell_type": "code",
   "execution_count": 62,
   "id": "01d14bbd-0414-4090-87ac-998ebf4a869e",
   "metadata": {},
   "outputs": [
    {
     "data": {
      "text/plain": [
       "<List object 'allcategories' for <Site object 'lol.fandom.com/'>>"
      ]
     },
     "execution_count": 62,
     "metadata": {},
     "output_type": "execute_result"
    }
   ],
   "source": [
    "site.allcategories()"
   ]
  },
  {
   "cell_type": "code",
   "execution_count": 63,
   "id": "d9763e0c-2b0f-4f05-8268-bc948f520b51",
   "metadata": {},
   "outputs": [
    {
     "name": "stdout",
     "output_type": "stream",
     "text": [
      "OrderedDict([('title', OrderedDict([('DateTime UTC', '2011-06-18 08:30:00'), ('DateTime UTC__precision', '0')]))])\n",
      "OrderedDict([('title', OrderedDict([('DateTime UTC', '2011-06-18 09:45:00'), ('DateTime UTC__precision', '0')]))])\n",
      "OrderedDict([('title', OrderedDict([('DateTime UTC', '2011-06-18 11:00:00'), ('DateTime UTC__precision', '0')]))])\n",
      "OrderedDict([('title', OrderedDict([('DateTime UTC', '2011-06-18 11:00:00'), ('DateTime UTC__precision', '0')]))])\n",
      "OrderedDict([('title', OrderedDict([('DateTime UTC', '2011-06-18 12:15:00'), ('DateTime UTC__precision', '0')]))])\n",
      "OrderedDict([('title', OrderedDict([('DateTime UTC', '2011-06-18 12:15:00'), ('DateTime UTC__precision', '0')]))])\n",
      "OrderedDict([('title', OrderedDict([('DateTime UTC', '2011-06-18 14:30:00'), ('DateTime UTC__precision', '0')]))])\n"
     ]
    }
   ],
   "source": [
    "for i,w in enumerate(response['cargoquery']):\n",
    "    print(w)\n",
    "    a = w\n",
    "    if i>5:\n",
    "        break"
   ]
  },
  {
   "cell_type": "code",
   "execution_count": 64,
   "id": "98c0d84d-f6bd-4d28-b949-11c771757f2d",
   "metadata": {},
   "outputs": [
    {
     "data": {
      "text/plain": [
       "collections.OrderedDict"
      ]
     },
     "execution_count": 64,
     "metadata": {},
     "output_type": "execute_result"
    }
   ],
   "source": [
    "type(response)"
   ]
  },
  {
   "cell_type": "code",
   "execution_count": 65,
   "id": "1e811f11-0ccf-447c-b818-a907f5cf3816",
   "metadata": {},
   "outputs": [
    {
     "data": {
      "text/plain": [
       "list"
      ]
     },
     "execution_count": 65,
     "metadata": {},
     "output_type": "execute_result"
    }
   ],
   "source": [
    "type(response['cargoquery'])"
   ]
  },
  {
   "cell_type": "code",
   "execution_count": 66,
   "id": "342b1419-c7c9-44b7-a457-bca05c8d3f63",
   "metadata": {},
   "outputs": [
    {
     "data": {
      "text/plain": [
       "collections.OrderedDict"
      ]
     },
     "execution_count": 66,
     "metadata": {},
     "output_type": "execute_result"
    }
   ],
   "source": [
    "type(response['cargoquery'][0])"
   ]
  },
  {
   "cell_type": "code",
   "execution_count": 67,
   "id": "2528272b-6bcd-42b8-8619-b065bd4b0413",
   "metadata": {},
   "outputs": [
    {
     "data": {
      "text/plain": [
       "collections.OrderedDict"
      ]
     },
     "execution_count": 67,
     "metadata": {},
     "output_type": "execute_result"
    }
   ],
   "source": [
    "type(response['cargoquery'][0]['title'])"
   ]
  },
  {
   "cell_type": "code",
   "execution_count": 68,
   "id": "1d8489f6-7524-41ee-b6fd-15b06bc059e4",
   "metadata": {},
   "outputs": [
    {
     "data": {
      "text/plain": [
       "odict_keys(['DateTime UTC', 'DateTime UTC__precision'])"
      ]
     },
     "execution_count": 68,
     "metadata": {},
     "output_type": "execute_result"
    }
   ],
   "source": [
    "response['cargoquery'][0]['title'].keys()"
   ]
  },
  {
   "cell_type": "code",
   "execution_count": 71,
   "id": "c332e758-8453-4c3e-bac5-113dc671ca38",
   "metadata": {},
   "outputs": [
    {
     "data": {
      "text/plain": [
       "OrderedDict([('cargoquery',\n",
       "              [OrderedDict([('title',\n",
       "                             OrderedDict([('Tournament',\n",
       "                                           'AllStars Latinoamerica 2022'),\n",
       "                                          ('DateTime UTC',\n",
       "                                           '2022-05-19 00:07:00'),\n",
       "                                          ('Team1', 'Saprissa Esports'),\n",
       "                                          ('Team2', 'Descuydado Esports'),\n",
       "                                          ('DateTime UTC__precision',\n",
       "                                           '0')]))]),\n",
       "               OrderedDict([('title',\n",
       "                             OrderedDict([('Tournament',\n",
       "                                           'AllStars Latinoamerica 2022'),\n",
       "                                          ('DateTime UTC',\n",
       "                                           '2022-05-19 01:09:00'),\n",
       "                                          ('Team1', 'Descuydado Esports'),\n",
       "                                          ('Team2', 'Zeu5 Bogota'),\n",
       "                                          ('DateTime UTC__precision',\n",
       "                                           '0')]))]),\n",
       "               OrderedDict([('title',\n",
       "                             OrderedDict([('Tournament',\n",
       "                                           'AllStars Latinoamerica 2022'),\n",
       "                                          ('DateTime UTC',\n",
       "                                           '2022-05-19 02:14:00'),\n",
       "                                          ('Team1', 'Zeu5 Bogota'),\n",
       "                                          ('Team2', 'Saprissa Esports'),\n",
       "                                          ('DateTime UTC__precision',\n",
       "                                           '0')]))])])])"
      ]
     },
     "execution_count": 71,
     "metadata": {},
     "output_type": "execute_result"
    }
   ],
   "source": [
    "response = site.api('cargoquery',\n",
    "\t\n",
    "\ttables = \"ScoreboardGames=SG\",\n",
    "\tfields = \"SG.Tournament, SG.DateTime_UTC, SG.Team1, SG.Team2\",\n",
    "\twhere = \"SG.DateTime_UTC >= '2019-08-01 00:00:00'\", #Results after Aug 1, 2019\n",
    "    limit = '3',\n",
    ")\n",
    "response"
   ]
  },
  {
   "cell_type": "markdown",
   "id": "08ae1afe-24ad-495a-a0a1-6e5662c86e15",
   "metadata": {},
   "source": [
    "## Red x Miners"
   ]
  },
  {
   "cell_type": "code",
   "execution_count": 72,
   "id": "11a08dee-854b-4b13-92e4-58eecef62a30",
   "metadata": {},
   "outputs": [],
   "source": [
    "GameId = '108211865723912221'"
   ]
  },
  {
   "cell_type": "code",
   "execution_count": 73,
   "id": "23aeb3a3-844d-40e9-9a83-a028ba7442d5",
   "metadata": {},
   "outputs": [],
   "source": [
    "MatchId = '108211865723912220'"
   ]
  },
  {
   "cell_type": "markdown",
   "id": "2c80edb7-729f-4da8-a0fe-760a580eabe8",
   "metadata": {},
   "source": [
    "## Teste API"
   ]
  },
  {
   "cell_type": "code",
   "execution_count": 74,
   "id": "38ab6008-2a11-4d7b-9987-ada25990067c",
   "metadata": {},
   "outputs": [],
   "source": [
    "response = site.api('cargoquery',\n",
    "\tlimit = '10',\n",
    "\ttables = \"MatchScheduleGame=MSG\",\n",
    "\tfields = \"MSG.GameId,MSG.MatchId,MSG.RiotPlatformGameId,MSG.RiotPlatformId,MSG.RiotGameId\",\n",
    "    where = f\"MSG.MatchId={MatchId}\"\n",
    ")"
   ]
  },
  {
   "cell_type": "code",
   "execution_count": 75,
   "id": "13b86302-d7a9-4932-8bd6-51d7884626ad",
   "metadata": {},
   "outputs": [
    {
     "data": {
      "text/plain": [
       "OrderedDict([('cargoquery', [])])"
      ]
     },
     "execution_count": 75,
     "metadata": {},
     "output_type": "execute_result"
    }
   ],
   "source": [
    "response"
   ]
  },
  {
   "cell_type": "markdown",
   "id": "9c6d38c7-8ca8-42e9-b1a4-48bcefc2014e",
   "metadata": {},
   "source": [
    "### Consultando a Liga"
   ]
  },
  {
   "cell_type": "code",
   "execution_count": 76,
   "id": "dbe70bbc-dda6-4177-9cd1-c90655f2abd4",
   "metadata": {},
   "outputs": [],
   "source": [
    "response = site.api('cargoquery',\n",
    "\ttables = \"MatchSchedule=MS\",\n",
    "\tfields = \"MS.DateTime_UTC,MS.MatchId\",\n",
    "    where = \"MS.DateTime_UTC >= '2022-06-18 00:00:00' AND MS.DateTime_UTC <= '2022-06-21 00:00:00' AND  MS.MatchId like '%CBLOL%'\" ,\n",
    "    limit = 'max',\n",
    ")"
   ]
  },
  {
   "cell_type": "code",
   "execution_count": 77,
   "id": "d1a58f75-0d44-4604-aecc-555b305dedba",
   "metadata": {},
   "outputs": [
    {
     "data": {
      "text/plain": [
       "15"
      ]
     },
     "execution_count": 77,
     "metadata": {},
     "output_type": "execute_result"
    }
   ],
   "source": [
    "len(response['cargoquery'])"
   ]
  },
  {
   "cell_type": "code",
   "execution_count": 78,
   "id": "b03d2f79-056f-4f5b-9a41-bd24f7f342e3",
   "metadata": {},
   "outputs": [
    {
     "name": "stdout",
     "output_type": "stream",
     "text": [
      "CBLOL/2022 Season/Split 2_Week 2_1\n",
      "CBLOL/2022 Season/Split 2_Week 2_2\n",
      "CBLOL/2022 Season/Split 2_Week 2_3\n",
      "CBLOL/2022 Season/Split 2_Week 2_4\n",
      "CBLOL/2022 Season/Split 2_Week 2_5\n",
      "CBLOL/2022 Season/Split 2_Week 2_6\n",
      "CBLOL/2022 Season/Split 2_Week 2_7\n",
      "CBLOL/2022 Season/Split 2_Week 2_8\n",
      "CBLOL/2022 Season/Split 2_Week 2_9\n",
      "CBLOL/2022 Season/Split 2_Week 2_10\n",
      "CBLOL Academy/2022 Season/Split 2_Week 2_1\n",
      "CBLOL Academy/2022 Season/Split 2_Week 2_2\n",
      "CBLOL Academy/2022 Season/Split 2_Week 2_3\n",
      "CBLOL Academy/2022 Season/Split 2_Week 2_4\n",
      "CBLOL Academy/2022 Season/Split 2_Week 2_5\n"
     ]
    }
   ],
   "source": [
    "CBLOL = []\n",
    "for i,match in enumerate(response['cargoquery']):\n",
    "    if 'CBLOL' in match['title']['MatchId']:\n",
    "        CBLOL.append(match)\n",
    "    print(match['title']['MatchId'])"
   ]
  },
  {
   "cell_type": "code",
   "execution_count": 79,
   "id": "ce9ee91b-d5c7-475b-a487-398f54182032",
   "metadata": {},
   "outputs": [
    {
     "data": {
      "text/plain": [
       "[OrderedDict([('title',\n",
       "               OrderedDict([('DateTime UTC', '2022-06-18 16:00:00'),\n",
       "                            ('MatchId', 'CBLOL/2022 Season/Split 2_Week 2_1'),\n",
       "                            ('DateTime UTC__precision', '0')]))]),\n",
       " OrderedDict([('title',\n",
       "               OrderedDict([('DateTime UTC', '2022-06-18 17:00:00'),\n",
       "                            ('MatchId', 'CBLOL/2022 Season/Split 2_Week 2_2'),\n",
       "                            ('DateTime UTC__precision', '0')]))])]"
      ]
     },
     "execution_count": 79,
     "metadata": {},
     "output_type": "execute_result"
    }
   ],
   "source": [
    "CBLOL[:2]"
   ]
  },
  {
   "cell_type": "markdown",
   "id": "80b67cf0-10f1-4aca-8883-78c183624d50",
   "metadata": {},
   "source": [
    "## LoL CBLoL partida"
   ]
  },
  {
   "cell_type": "code",
   "execution_count": 80,
   "id": "332ca82b-9ead-486a-a9f1-be2b542e2a34",
   "metadata": {},
   "outputs": [],
   "source": [
    "response = site.api('cargoquery',\n",
    "\ttables = \"MatchScheduleGame=MG,PostgameJsonMetadata=G\",\n",
    "    join_on = \"MG.GameId=G.GameId\",\n",
    "\tfields = \"MG.MatchId,MG.GameId,G.RiotPlatformGameId,G.RiotGameId,G.StatsPage,G.TimelinePage,MG.Vod\",\n",
    "    where = \"MG.MatchId like '%CBLOL/2022 Season/Split%'\" ,\n",
    "    limit = 'max'\n",
    ")"
   ]
  },
  {
   "cell_type": "code",
   "execution_count": 81,
   "id": "95b6a15c-55b2-47eb-98b0-047605d86b37",
   "metadata": {},
   "outputs": [
    {
     "data": {
      "text/plain": [
       "213"
      ]
     },
     "execution_count": 81,
     "metadata": {},
     "output_type": "execute_result"
    }
   ],
   "source": [
    "len(response['cargoquery'])"
   ]
  },
  {
   "cell_type": "code",
   "execution_count": 82,
   "id": "d8c20f75-f08e-486a-838f-eca5c4f16150",
   "metadata": {},
   "outputs": [],
   "source": [
    "jsonData = json.dumps(response['cargoquery'])"
   ]
  },
  {
   "cell_type": "code",
   "execution_count": 83,
   "id": "d32c91d0-a305-43a9-8d39-23a5658a9a9a",
   "metadata": {},
   "outputs": [],
   "source": [
    "ParseData = jsonData.replace('''{\"title\\\":''','').replace(\"}}\",'}')"
   ]
  },
  {
   "cell_type": "code",
   "execution_count": 84,
   "id": "d833aeed-bee9-41c7-a002-f09c74e4a655",
   "metadata": {},
   "outputs": [],
   "source": [
    "jsonData = json.dumps(response['cargoquery'])\n",
    "ParseData = jsonData.replace('''{\"title\\\":''','').replace(\"}}\",'}')\n",
    "df_cblol20022= pd.read_json(ParseData, orient = 'values' )"
   ]
  },
  {
   "cell_type": "code",
   "execution_count": 85,
   "id": "1f876dda-a31f-47b7-b34e-40ac14e3f3a0",
   "metadata": {},
   "outputs": [],
   "source": [
    "siteTimeLine = mwclient.Site('lol.fandom.com', path=f'/')"
   ]
  },
  {
   "cell_type": "code",
   "execution_count": 86,
   "id": "95851f8f-0f66-4b67-be6e-a0f2a45c448b",
   "metadata": {},
   "outputs": [],
   "source": [
    "gamePath = df_cblol20022.TimelinePage[102]"
   ]
  },
  {
   "cell_type": "code",
   "execution_count": 87,
   "id": "7524383e-3560-4663-81c3-92a3cb4b2a91",
   "metadata": {},
   "outputs": [],
   "source": [
    "gameTimeLine = site.pages[gamePath]"
   ]
  },
  {
   "cell_type": "code",
   "execution_count": null,
   "id": "453ab41d-fa86-4b82-bda6-13b377897548",
   "metadata": {},
   "outputs": [],
   "source": []
  },
  {
   "cell_type": "code",
   "execution_count": 88,
   "id": "1d1d3da1-9c9f-49d8-b91d-73829480717f",
   "metadata": {},
   "outputs": [
    {
     "data": {
      "text/html": [
       "<div>\n",
       "<style scoped>\n",
       "    .dataframe tbody tr th:only-of-type {\n",
       "        vertical-align: middle;\n",
       "    }\n",
       "\n",
       "    .dataframe tbody tr th {\n",
       "        vertical-align: top;\n",
       "    }\n",
       "\n",
       "    .dataframe thead th {\n",
       "        text-align: right;\n",
       "    }\n",
       "</style>\n",
       "<table border=\"1\" class=\"dataframe\">\n",
       "  <thead>\n",
       "    <tr style=\"text-align: right;\">\n",
       "      <th></th>\n",
       "      <th>MatchId</th>\n",
       "      <th>GameId</th>\n",
       "      <th>RiotPlatformGameId</th>\n",
       "      <th>RiotGameId</th>\n",
       "      <th>StatsPage</th>\n",
       "      <th>TimelinePage</th>\n",
       "      <th>Vod</th>\n",
       "    </tr>\n",
       "  </thead>\n",
       "  <tbody>\n",
       "    <tr>\n",
       "      <th>0</th>\n",
       "      <td>CBLOL/2022 Season/Split 1 Playoffs_Finals_1</td>\n",
       "      <td>CBLOL/2022 Season/Split 1 Playoffs_Finals_1_1</td>\n",
       "      <td>ESPORTSTMNT03_2658136</td>\n",
       "      <td>2658136</td>\n",
       "      <td>V5 data:ESPORTSTMNT03 2658136</td>\n",
       "      <td>V5 data:ESPORTSTMNT03 2658136/Timeline</td>\n",
       "      <td>https://www.youtube.com/watch?v=sfLfistyYl8</td>\n",
       "    </tr>\n",
       "    <tr>\n",
       "      <th>1</th>\n",
       "      <td>CBLOL/2022 Season/Split 1 Playoffs_Finals_1</td>\n",
       "      <td>CBLOL/2022 Season/Split 1 Playoffs_Finals_1_2</td>\n",
       "      <td>ESPORTSTMNT03_2638459</td>\n",
       "      <td>2638459</td>\n",
       "      <td>V5 data:ESPORTSTMNT03 2638459</td>\n",
       "      <td>V5 data:ESPORTSTMNT03 2638459/Timeline</td>\n",
       "      <td>https://www.youtube.com/watch?v=AVdLJCFdHYU</td>\n",
       "    </tr>\n",
       "    <tr>\n",
       "      <th>2</th>\n",
       "      <td>CBLOL/2022 Season/Split 1 Playoffs_Finals_1</td>\n",
       "      <td>CBLOL/2022 Season/Split 1 Playoffs_Finals_1_3</td>\n",
       "      <td>ESPORTSTMNT03_2638460</td>\n",
       "      <td>2638460</td>\n",
       "      <td>V5 data:ESPORTSTMNT03 2638460</td>\n",
       "      <td>V5 data:ESPORTSTMNT03 2638460/Timeline</td>\n",
       "      <td>https://www.youtube.com/watch?v=2Sa4BL3qY50</td>\n",
       "    </tr>\n",
       "    <tr>\n",
       "      <th>3</th>\n",
       "      <td>CBLOL/2022 Season/Split 1 Playoffs_Finals_1</td>\n",
       "      <td>CBLOL/2022 Season/Split 1 Playoffs_Finals_1_4</td>\n",
       "      <td>ESPORTSTMNT03_2658140</td>\n",
       "      <td>2658140</td>\n",
       "      <td>V5 data:ESPORTSTMNT03 2658140</td>\n",
       "      <td>V5 data:ESPORTSTMNT03 2658140/Timeline</td>\n",
       "      <td>https://www.youtube.com/watch?v=Z3oKLTAIhAg</td>\n",
       "    </tr>\n",
       "    <tr>\n",
       "      <th>4</th>\n",
       "      <td>CBLOL/2022 Season/Split 1 Playoffs_Finals_1</td>\n",
       "      <td>CBLOL/2022 Season/Split 1 Playoffs_Finals_1_5</td>\n",
       "      <td>ESPORTSTMNT03_2658141</td>\n",
       "      <td>2658141</td>\n",
       "      <td>V5 data:ESPORTSTMNT03 2658141</td>\n",
       "      <td>V5 data:ESPORTSTMNT03 2658141/Timeline</td>\n",
       "      <td>https://www.youtube.com/watch?v=8t5wzpylTDs</td>\n",
       "    </tr>\n",
       "    <tr>\n",
       "      <th>...</th>\n",
       "      <td>...</td>\n",
       "      <td>...</td>\n",
       "      <td>...</td>\n",
       "      <td>...</td>\n",
       "      <td>...</td>\n",
       "      <td>...</td>\n",
       "      <td>...</td>\n",
       "    </tr>\n",
       "    <tr>\n",
       "      <th>208</th>\n",
       "      <td>CBLOL/2022 Season/Split 2_Week 9_5</td>\n",
       "      <td>CBLOL/2022 Season/Split 2_Week 9_5_1</td>\n",
       "      <td></td>\n",
       "      <td></td>\n",
       "      <td></td>\n",
       "      <td></td>\n",
       "      <td></td>\n",
       "    </tr>\n",
       "    <tr>\n",
       "      <th>209</th>\n",
       "      <td>CBLOL/2022 Season/Split 2_Week 9_6</td>\n",
       "      <td>CBLOL/2022 Season/Split 2_Week 9_6_1</td>\n",
       "      <td></td>\n",
       "      <td></td>\n",
       "      <td></td>\n",
       "      <td></td>\n",
       "      <td></td>\n",
       "    </tr>\n",
       "    <tr>\n",
       "      <th>210</th>\n",
       "      <td>CBLOL/2022 Season/Split 2_Week 9_7</td>\n",
       "      <td>CBLOL/2022 Season/Split 2_Week 9_7_1</td>\n",
       "      <td></td>\n",
       "      <td></td>\n",
       "      <td></td>\n",
       "      <td></td>\n",
       "      <td></td>\n",
       "    </tr>\n",
       "    <tr>\n",
       "      <th>211</th>\n",
       "      <td>CBLOL/2022 Season/Split 2_Week 9_8</td>\n",
       "      <td>CBLOL/2022 Season/Split 2_Week 9_8_1</td>\n",
       "      <td></td>\n",
       "      <td></td>\n",
       "      <td></td>\n",
       "      <td></td>\n",
       "      <td></td>\n",
       "    </tr>\n",
       "    <tr>\n",
       "      <th>212</th>\n",
       "      <td>CBLOL/2022 Season/Split 2_Week 9_9</td>\n",
       "      <td>CBLOL/2022 Season/Split 2_Week 9_9_1</td>\n",
       "      <td></td>\n",
       "      <td></td>\n",
       "      <td></td>\n",
       "      <td></td>\n",
       "      <td></td>\n",
       "    </tr>\n",
       "  </tbody>\n",
       "</table>\n",
       "<p>213 rows × 7 columns</p>\n",
       "</div>"
      ],
      "text/plain": [
       "                                         MatchId  \\\n",
       "0    CBLOL/2022 Season/Split 1 Playoffs_Finals_1   \n",
       "1    CBLOL/2022 Season/Split 1 Playoffs_Finals_1   \n",
       "2    CBLOL/2022 Season/Split 1 Playoffs_Finals_1   \n",
       "3    CBLOL/2022 Season/Split 1 Playoffs_Finals_1   \n",
       "4    CBLOL/2022 Season/Split 1 Playoffs_Finals_1   \n",
       "..                                           ...   \n",
       "208           CBLOL/2022 Season/Split 2_Week 9_5   \n",
       "209           CBLOL/2022 Season/Split 2_Week 9_6   \n",
       "210           CBLOL/2022 Season/Split 2_Week 9_7   \n",
       "211           CBLOL/2022 Season/Split 2_Week 9_8   \n",
       "212           CBLOL/2022 Season/Split 2_Week 9_9   \n",
       "\n",
       "                                            GameId     RiotPlatformGameId  \\\n",
       "0    CBLOL/2022 Season/Split 1 Playoffs_Finals_1_1  ESPORTSTMNT03_2658136   \n",
       "1    CBLOL/2022 Season/Split 1 Playoffs_Finals_1_2  ESPORTSTMNT03_2638459   \n",
       "2    CBLOL/2022 Season/Split 1 Playoffs_Finals_1_3  ESPORTSTMNT03_2638460   \n",
       "3    CBLOL/2022 Season/Split 1 Playoffs_Finals_1_4  ESPORTSTMNT03_2658140   \n",
       "4    CBLOL/2022 Season/Split 1 Playoffs_Finals_1_5  ESPORTSTMNT03_2658141   \n",
       "..                                             ...                    ...   \n",
       "208           CBLOL/2022 Season/Split 2_Week 9_5_1                          \n",
       "209           CBLOL/2022 Season/Split 2_Week 9_6_1                          \n",
       "210           CBLOL/2022 Season/Split 2_Week 9_7_1                          \n",
       "211           CBLOL/2022 Season/Split 2_Week 9_8_1                          \n",
       "212           CBLOL/2022 Season/Split 2_Week 9_9_1                          \n",
       "\n",
       "    RiotGameId                      StatsPage  \\\n",
       "0      2658136  V5 data:ESPORTSTMNT03 2658136   \n",
       "1      2638459  V5 data:ESPORTSTMNT03 2638459   \n",
       "2      2638460  V5 data:ESPORTSTMNT03 2638460   \n",
       "3      2658140  V5 data:ESPORTSTMNT03 2658140   \n",
       "4      2658141  V5 data:ESPORTSTMNT03 2658141   \n",
       "..         ...                            ...   \n",
       "208                                             \n",
       "209                                             \n",
       "210                                             \n",
       "211                                             \n",
       "212                                             \n",
       "\n",
       "                               TimelinePage  \\\n",
       "0    V5 data:ESPORTSTMNT03 2658136/Timeline   \n",
       "1    V5 data:ESPORTSTMNT03 2638459/Timeline   \n",
       "2    V5 data:ESPORTSTMNT03 2638460/Timeline   \n",
       "3    V5 data:ESPORTSTMNT03 2658140/Timeline   \n",
       "4    V5 data:ESPORTSTMNT03 2658141/Timeline   \n",
       "..                                      ...   \n",
       "208                                           \n",
       "209                                           \n",
       "210                                           \n",
       "211                                           \n",
       "212                                           \n",
       "\n",
       "                                             Vod  \n",
       "0    https://www.youtube.com/watch?v=sfLfistyYl8  \n",
       "1    https://www.youtube.com/watch?v=AVdLJCFdHYU  \n",
       "2    https://www.youtube.com/watch?v=2Sa4BL3qY50  \n",
       "3    https://www.youtube.com/watch?v=Z3oKLTAIhAg  \n",
       "4    https://www.youtube.com/watch?v=8t5wzpylTDs  \n",
       "..                                           ...  \n",
       "208                                               \n",
       "209                                               \n",
       "210                                               \n",
       "211                                               \n",
       "212                                               \n",
       "\n",
       "[213 rows x 7 columns]"
      ]
     },
     "execution_count": 88,
     "metadata": {},
     "output_type": "execute_result"
    }
   ],
   "source": [
    "df_cblol20022"
   ]
  },
  {
   "cell_type": "code",
   "execution_count": 89,
   "id": "20408725-e5fa-4963-b9c3-f007207a62f6",
   "metadata": {},
   "outputs": [],
   "source": [
    "gameStatusLink = df_cblol20022.StatsPage[102]"
   ]
  },
  {
   "cell_type": "code",
   "execution_count": 90,
   "id": "ba2eda90-1d13-4c6c-87ac-03a13789cd6e",
   "metadata": {},
   "outputs": [],
   "source": [
    "gameStatus = site.pages[gameStatusLink]"
   ]
  },
  {
   "cell_type": "code",
   "execution_count": null,
   "id": "32766768-f9f7-4e9d-8df1-0640daec57f2",
   "metadata": {},
   "outputs": [],
   "source": []
  },
  {
   "cell_type": "code",
   "execution_count": null,
   "id": "46e01542-3b4e-4f95-88d6-f3a71348c3c6",
   "metadata": {},
   "outputs": [],
   "source": []
  },
  {
   "cell_type": "code",
   "execution_count": null,
   "id": "56106f74-afb0-433a-aba0-ccb9a8e59d80",
   "metadata": {},
   "outputs": [],
   "source": []
  },
  {
   "cell_type": "code",
   "execution_count": null,
   "id": "03e725ec-1d4e-4814-bb92-c747687cbd06",
   "metadata": {},
   "outputs": [],
   "source": []
  },
  {
   "cell_type": "markdown",
   "id": "a30ed5c6-95af-43a5-90d5-0e58c1f28e30",
   "metadata": {},
   "source": [
    "## Conversão do JSON para dict"
   ]
  },
  {
   "cell_type": "code",
   "execution_count": 91,
   "id": "8f0927e4-5d09-4d83-8017-7d2bddd3cdd7",
   "metadata": {},
   "outputs": [],
   "source": [
    "dataJJSON = gameTimeLine.text()"
   ]
  },
  {
   "cell_type": "code",
   "execution_count": 92,
   "id": "0a981908-e1c4-44ef-93fc-70a00b9e1679",
   "metadata": {},
   "outputs": [
    {
     "data": {
      "text/plain": [
       "dict_keys(['frameInterval', 'frames', 'gameId', 'participants'])"
      ]
     },
     "execution_count": 92,
     "metadata": {},
     "output_type": "execute_result"
    }
   ],
   "source": [
    "dataJJSON = gameTimeLine.text()\n",
    "timeLineDict = json.loads(dataJJSON)\n",
    "timeLineDict.keys()"
   ]
  },
  {
   "cell_type": "code",
   "execution_count": 93,
   "id": "402d511e-afac-4592-bd0c-26b6e6914ca3",
   "metadata": {},
   "outputs": [
    {
     "data": {
      "text/plain": [
       "dict_keys(['gameCreation', 'gameDuration', 'gameEndTimestamp', 'gameId', 'gameMode', 'gameName', 'gameStartTimestamp', 'gameType', 'gameVersion', 'mapId', 'participants', 'platformId', 'queueId', 'seasonId', 'teams', 'tournamentCode'])"
      ]
     },
     "execution_count": 93,
     "metadata": {},
     "output_type": "execute_result"
    }
   ],
   "source": [
    "dataJJSON = gameStatus.text()\n",
    "StatusDict = json.loads(dataJJSON)\n",
    "StatusDict.keys()"
   ]
  },
  {
   "cell_type": "code",
   "execution_count": 94,
   "id": "95a5b2ba-d71c-4682-9a7d-6030edc67128",
   "metadata": {},
   "outputs": [
    {
     "data": {
      "text/plain": [
       "[{'participantId': 1},\n",
       " {'participantId': 2},\n",
       " {'participantId': 3},\n",
       " {'participantId': 4},\n",
       " {'participantId': 5},\n",
       " {'participantId': 6},\n",
       " {'participantId': 7},\n",
       " {'participantId': 8},\n",
       " {'participantId': 9},\n",
       " {'participantId': 10}]"
      ]
     },
     "execution_count": 94,
     "metadata": {},
     "output_type": "execute_result"
    }
   ],
   "source": [
    "timeLineDict.get('participants')"
   ]
  },
  {
   "cell_type": "markdown",
   "id": "7e55decb-4955-46e0-8936-1b9fb851bcaa",
   "metadata": {},
   "source": [
    "## Análise do timeLineDict"
   ]
  },
  {
   "cell_type": "markdown",
   "id": "fbfdcdfa-38e4-4c4e-a1b1-dc5f304ca138",
   "metadata": {},
   "source": [
    "https://pkg.go.dev/github.com/torlenor/alolstats/riotclient#MatchTimelineDTO"
   ]
  },
  {
   "cell_type": "code",
   "execution_count": 95,
   "id": "45fc2669-9cd9-4e1d-b9df-b47514af20fa",
   "metadata": {},
   "outputs": [
    {
     "data": {
      "text/plain": [
       "60000"
      ]
     },
     "execution_count": 95,
     "metadata": {},
     "output_type": "execute_result"
    }
   ],
   "source": [
    "timeLineDict['frameInterval']"
   ]
  },
  {
   "cell_type": "code",
   "execution_count": 96,
   "id": "b58c9f0b-fb30-4b40-a0e5-c2b775efb0c1",
   "metadata": {},
   "outputs": [
    {
     "data": {
      "text/plain": [
       "39"
      ]
     },
     "execution_count": 96,
     "metadata": {},
     "output_type": "execute_result"
    }
   ],
   "source": [
    "len(timeLineDict['frames'])"
   ]
  },
  {
   "cell_type": "code",
   "execution_count": 97,
   "id": "d0d976ab-b739-4a8b-a6e3-018b375bce01",
   "metadata": {},
   "outputs": [
    {
     "data": {
      "text/plain": [
       "dict"
      ]
     },
     "execution_count": 97,
     "metadata": {},
     "output_type": "execute_result"
    }
   ],
   "source": [
    "type(timeLineDict['frames'][0])"
   ]
  },
  {
   "cell_type": "code",
   "execution_count": 98,
   "id": "325efb7d-c25c-4a47-a1e2-4881929b119e",
   "metadata": {},
   "outputs": [
    {
     "data": {
      "text/plain": [
       "dict_keys(['events', 'participantFrames', 'timestamp'])"
      ]
     },
     "execution_count": 98,
     "metadata": {},
     "output_type": "execute_result"
    }
   ],
   "source": [
    "timeLineDict['frames'][0].keys()"
   ]
  },
  {
   "cell_type": "code",
   "execution_count": 99,
   "id": "a2e93aea-1d0c-4b60-967d-76f41e0538fc",
   "metadata": {},
   "outputs": [
    {
     "data": {
      "text/plain": [
       "[{'realTimestamp': 1646598185931, 'timestamp': 0, 'type': 'PAUSE_END'}]"
      ]
     },
     "execution_count": 99,
     "metadata": {},
     "output_type": "execute_result"
    }
   ],
   "source": [
    "timeLineDict['frames'][0]['events']"
   ]
  },
  {
   "cell_type": "code",
   "execution_count": 100,
   "id": "afbec80b-9b4b-46a4-b639-68789bd4c2c5",
   "metadata": {},
   "outputs": [
    {
     "name": "stdout",
     "output_type": "stream",
     "text": [
      "dict_keys(['events', 'participantFrames', 'timestamp'])\n",
      "[{'realTimestamp': 1646598185931, 'timestamp': 0, 'type': 'PAUSE_END'}]\n",
      "[{'realTimestamp': 1646598185931, 'timestamp': 0, 'type': 'PAUSE_END'}]\n",
      "dict_keys(['events', 'participantFrames', 'timestamp'])\n",
      "[{'itemId': 2033, 'participantId': 3, 'timestamp': 1978, 'type': 'ITEM_PURCHASED'}, {'itemId': 1039, 'participantId': 2, 'timestamp': 2144, 'type': 'ITEM_PURCHASED'}, {'itemId': 3340, 'participantId': 3, 'timestamp': 2342, 'type': 'ITEM_PURCHASED'}, {'itemId': 2031, 'participantId': 2, 'timestamp': 2738, 'type': 'ITEM_PURCHASED'}, {'itemId': 1035, 'participantId': 7, 'timestamp': 2804, 'type': 'ITEM_PURCHASED'}, {'itemId': 3340, 'participantId': 2, 'timestamp': 3002, 'type': 'ITEM_PURCHASED'}, {'itemId': 1036, 'participantId': 9, 'timestamp': 3135, 'type': 'ITEM_PURCHASED'}, {'itemId': 3340, 'participantId': 7, 'timestamp': 3168, 'type': 'ITEM_PURCHASED'}, {'itemId': 2031, 'participantId': 7, 'timestamp': 3399, 'type': 'ITEM_PURCHASED'}, {'itemId': 3850, 'participantId': 5, 'timestamp': 3432, 'type': 'ITEM_PURCHASED'}, {'itemId': 1036, 'participantId': 4, 'timestamp': 3465, 'type': 'ITEM_PURCHASED'}, {'itemId': 3340, 'participantId': 9, 'timestamp': 3729, 'type': 'ITEM_PURCHASED'}, {'itemId': 2003, 'participantId': 5, 'timestamp': 3795, 'type': 'ITEM_PURCHASED'}, {'itemId': 2003, 'participantId': 4, 'timestamp': 3927, 'type': 'ITEM_PURCHASED'}, {'itemId': 2003, 'participantId': 5, 'timestamp': 3927, 'type': 'ITEM_PURCHASED'}, {'itemId': 2003, 'participantId': 9, 'timestamp': 3927, 'type': 'ITEM_PURCHASED'}, {'itemId': 2003, 'participantId': 4, 'timestamp': 4059, 'type': 'ITEM_PURCHASED'}, {'itemId': 2003, 'participantId': 9, 'timestamp': 4092, 'type': 'ITEM_PURCHASED'}, {'itemId': 3340, 'participantId': 5, 'timestamp': 4125, 'type': 'ITEM_PURCHASED'}, {'itemId': 2003, 'participantId': 4, 'timestamp': 4192, 'type': 'ITEM_PURCHASED'}, {'itemId': 2003, 'participantId': 9, 'timestamp': 4225, 'type': 'ITEM_PURCHASED'}, {'itemId': 1036, 'participantId': 6, 'timestamp': 4324, 'type': 'ITEM_PURCHASED'}, {'itemId': 1054, 'participantId': 1, 'timestamp': 4720, 'type': 'ITEM_PURCHASED'}, {'itemId': 2033, 'participantId': 8, 'timestamp': 4753, 'type': 'ITEM_PURCHASED'}, {'itemId': 2003, 'participantId': 6, 'timestamp': 4753, 'type': 'ITEM_PURCHASED'}, {'itemId': 2003, 'participantId': 1, 'timestamp': 5153, 'type': 'ITEM_PURCHASED'}, {'itemId': 3340, 'participantId': 1, 'timestamp': 5352, 'type': 'ITEM_PURCHASED'}, {'itemId': 3340, 'participantId': 4, 'timestamp': 5385, 'type': 'ITEM_PURCHASED'}, {'itemId': 3858, 'participantId': 10, 'timestamp': 5484, 'type': 'ITEM_PURCHASED'}, {'itemId': 2003, 'participantId': 10, 'timestamp': 5484, 'type': 'ITEM_PURCHASED'}, {'itemId': 2003, 'participantId': 10, 'timestamp': 5484, 'type': 'ITEM_PURCHASED'}, {'afterId': 0, 'beforeId': 2003, 'goldGain': 50, 'participantId': 6, 'timestamp': 6012, 'type': 'ITEM_UNDO'}, {'itemId': 2031, 'participantId': 6, 'timestamp': 6508, 'type': 'ITEM_PURCHASED'}, {'itemId': 3340, 'participantId': 6, 'timestamp': 6739, 'type': 'ITEM_PURCHASED'}, {'levelUpType': 'NORMAL', 'participantId': 9, 'skillSlot': 1, 'timestamp': 21471, 'type': 'SKILL_LEVEL_UP'}, {'levelUpType': 'NORMAL', 'participantId': 2, 'skillSlot': 3, 'timestamp': 22231, 'type': 'SKILL_LEVEL_UP'}, {'creatorId': 5, 'timestamp': 28507, 'type': 'WARD_PLACED', 'wardType': 'YELLOW_TRINKET'}, {'levelUpType': 'NORMAL', 'participantId': 7, 'skillSlot': 1, 'timestamp': 35212, 'type': 'SKILL_LEVEL_UP'}, {'itemId': 3340, 'participantId': 5, 'timestamp': 39804, 'type': 'ITEM_DESTROYED'}, {'itemId': 3364, 'participantId': 5, 'timestamp': 39804, 'type': 'ITEM_PURCHASED'}, {'creatorId': 2, 'timestamp': 43404, 'type': 'WARD_PLACED', 'wardType': 'YELLOW_TRINKET'}, {'creatorId': 9, 'timestamp': 52884, 'type': 'WARD_PLACED', 'wardType': 'YELLOW_TRINKET'}, {'itemId': 3340, 'participantId': 2, 'timestamp': 53380, 'type': 'ITEM_DESTROYED'}, {'itemId': 3364, 'participantId': 2, 'timestamp': 53380, 'type': 'ITEM_PURCHASED'}]\n",
      "[{'itemId': 2033, 'participantId': 3, 'timestamp': 1978, 'type': 'ITEM_PURCHASED'}, {'itemId': 1039, 'participantId': 2, 'timestamp': 2144, 'type': 'ITEM_PURCHASED'}, {'itemId': 3340, 'participantId': 3, 'timestamp': 2342, 'type': 'ITEM_PURCHASED'}, {'itemId': 2031, 'participantId': 2, 'timestamp': 2738, 'type': 'ITEM_PURCHASED'}, {'itemId': 1035, 'participantId': 7, 'timestamp': 2804, 'type': 'ITEM_PURCHASED'}, {'itemId': 3340, 'participantId': 2, 'timestamp': 3002, 'type': 'ITEM_PURCHASED'}, {'itemId': 1036, 'participantId': 9, 'timestamp': 3135, 'type': 'ITEM_PURCHASED'}, {'itemId': 3340, 'participantId': 7, 'timestamp': 3168, 'type': 'ITEM_PURCHASED'}, {'itemId': 2031, 'participantId': 7, 'timestamp': 3399, 'type': 'ITEM_PURCHASED'}, {'itemId': 3850, 'participantId': 5, 'timestamp': 3432, 'type': 'ITEM_PURCHASED'}, {'itemId': 1036, 'participantId': 4, 'timestamp': 3465, 'type': 'ITEM_PURCHASED'}, {'itemId': 3340, 'participantId': 9, 'timestamp': 3729, 'type': 'ITEM_PURCHASED'}, {'itemId': 2003, 'participantId': 5, 'timestamp': 3795, 'type': 'ITEM_PURCHASED'}, {'itemId': 2003, 'participantId': 4, 'timestamp': 3927, 'type': 'ITEM_PURCHASED'}, {'itemId': 2003, 'participantId': 5, 'timestamp': 3927, 'type': 'ITEM_PURCHASED'}, {'itemId': 2003, 'participantId': 9, 'timestamp': 3927, 'type': 'ITEM_PURCHASED'}, {'itemId': 2003, 'participantId': 4, 'timestamp': 4059, 'type': 'ITEM_PURCHASED'}, {'itemId': 2003, 'participantId': 9, 'timestamp': 4092, 'type': 'ITEM_PURCHASED'}, {'itemId': 3340, 'participantId': 5, 'timestamp': 4125, 'type': 'ITEM_PURCHASED'}, {'itemId': 2003, 'participantId': 4, 'timestamp': 4192, 'type': 'ITEM_PURCHASED'}, {'itemId': 2003, 'participantId': 9, 'timestamp': 4225, 'type': 'ITEM_PURCHASED'}, {'itemId': 1036, 'participantId': 6, 'timestamp': 4324, 'type': 'ITEM_PURCHASED'}, {'itemId': 1054, 'participantId': 1, 'timestamp': 4720, 'type': 'ITEM_PURCHASED'}, {'itemId': 2033, 'participantId': 8, 'timestamp': 4753, 'type': 'ITEM_PURCHASED'}, {'itemId': 2003, 'participantId': 6, 'timestamp': 4753, 'type': 'ITEM_PURCHASED'}, {'itemId': 2003, 'participantId': 1, 'timestamp': 5153, 'type': 'ITEM_PURCHASED'}, {'itemId': 3340, 'participantId': 1, 'timestamp': 5352, 'type': 'ITEM_PURCHASED'}, {'itemId': 3340, 'participantId': 4, 'timestamp': 5385, 'type': 'ITEM_PURCHASED'}, {'itemId': 3858, 'participantId': 10, 'timestamp': 5484, 'type': 'ITEM_PURCHASED'}, {'itemId': 2003, 'participantId': 10, 'timestamp': 5484, 'type': 'ITEM_PURCHASED'}, {'itemId': 2003, 'participantId': 10, 'timestamp': 5484, 'type': 'ITEM_PURCHASED'}, {'afterId': 0, 'beforeId': 2003, 'goldGain': 50, 'participantId': 6, 'timestamp': 6012, 'type': 'ITEM_UNDO'}, {'itemId': 2031, 'participantId': 6, 'timestamp': 6508, 'type': 'ITEM_PURCHASED'}, {'itemId': 3340, 'participantId': 6, 'timestamp': 6739, 'type': 'ITEM_PURCHASED'}, {'levelUpType': 'NORMAL', 'participantId': 9, 'skillSlot': 1, 'timestamp': 21471, 'type': 'SKILL_LEVEL_UP'}, {'levelUpType': 'NORMAL', 'participantId': 2, 'skillSlot': 3, 'timestamp': 22231, 'type': 'SKILL_LEVEL_UP'}, {'creatorId': 5, 'timestamp': 28507, 'type': 'WARD_PLACED', 'wardType': 'YELLOW_TRINKET'}, {'levelUpType': 'NORMAL', 'participantId': 7, 'skillSlot': 1, 'timestamp': 35212, 'type': 'SKILL_LEVEL_UP'}, {'itemId': 3340, 'participantId': 5, 'timestamp': 39804, 'type': 'ITEM_DESTROYED'}, {'itemId': 3364, 'participantId': 5, 'timestamp': 39804, 'type': 'ITEM_PURCHASED'}, {'creatorId': 2, 'timestamp': 43404, 'type': 'WARD_PLACED', 'wardType': 'YELLOW_TRINKET'}, {'creatorId': 9, 'timestamp': 52884, 'type': 'WARD_PLACED', 'wardType': 'YELLOW_TRINKET'}, {'itemId': 3340, 'participantId': 2, 'timestamp': 53380, 'type': 'ITEM_DESTROYED'}, {'itemId': 3364, 'participantId': 2, 'timestamp': 53380, 'type': 'ITEM_PURCHASED'}]\n"
     ]
    }
   ],
   "source": [
    "for i,frame  in enumerate(timeLineDict['frames']):\n",
    "    \n",
    "    print(frame.keys())\n",
    "    print(frame.get('events'))\n",
    "    print(frame['events'])\n",
    "    if i>0:\n",
    "        break"
   ]
  },
  {
   "cell_type": "code",
   "execution_count": 101,
   "id": "998d7ae6-c1eb-4e96-b9f8-96abcffb7bfc",
   "metadata": {},
   "outputs": [
    {
     "data": {
      "text/plain": [
       "list"
      ]
     },
     "execution_count": 101,
     "metadata": {},
     "output_type": "execute_result"
    }
   ],
   "source": [
    "type(timeLineDict['frames'][1]['events'])"
   ]
  },
  {
   "cell_type": "code",
   "execution_count": 102,
   "id": "59ebf64b-af23-47e4-9d18-b020b70937c8",
   "metadata": {},
   "outputs": [
    {
     "data": {
      "text/plain": [
       "dict_keys(['frameInterval', 'frames', 'gameId', 'participants'])"
      ]
     },
     "execution_count": 102,
     "metadata": {},
     "output_type": "execute_result"
    }
   ],
   "source": [
    "timeLineDict.keys()"
   ]
  },
  {
   "cell_type": "code",
   "execution_count": 103,
   "id": "5c0b63da-8440-4420-95f9-f7fc77679809",
   "metadata": {},
   "outputs": [
    {
     "data": {
      "text/plain": [
       "dict_keys(['events', 'participantFrames', 'timestamp'])"
      ]
     },
     "execution_count": 103,
     "metadata": {},
     "output_type": "execute_result"
    }
   ],
   "source": [
    "timeLineDict.get('frames')[0].keys()"
   ]
  },
  {
   "cell_type": "code",
   "execution_count": 104,
   "id": "b7baa487-fc26-476c-af58-91b9319bf53a",
   "metadata": {},
   "outputs": [
    {
     "data": {
      "text/plain": [
       "dict_keys(['events', 'participantFrames', 'timestamp'])"
      ]
     },
     "execution_count": 104,
     "metadata": {},
     "output_type": "execute_result"
    }
   ],
   "source": [
    "timeLineDict.get('frames')[1].keys()"
   ]
  },
  {
   "cell_type": "code",
   "execution_count": 105,
   "id": "4c63f1e0-e732-4c97-b099-43a91155ee62",
   "metadata": {},
   "outputs": [
    {
     "data": {
      "text/plain": [
       "{'participantId': 1}"
      ]
     },
     "execution_count": 105,
     "metadata": {},
     "output_type": "execute_result"
    }
   ],
   "source": [
    "timeLineDict.get('participants')[0]"
   ]
  },
  {
   "cell_type": "code",
   "execution_count": 106,
   "id": "b05010ac-82bb-44f0-944f-4ec61b2cd1a3",
   "metadata": {},
   "outputs": [
    {
     "data": {
      "text/plain": [
       "dict_keys(['championStats', 'currentGold', 'damageStats', 'goldPerSecond', 'jungleMinionsKilled', 'level', 'minionsKilled', 'participantId', 'position', 'timeEnemySpentControlled', 'totalGold', 'xp'])"
      ]
     },
     "execution_count": 106,
     "metadata": {},
     "output_type": "execute_result"
    }
   ],
   "source": [
    "timeLineDict.get('frames')[0]['participantFrames']['1'].keys()"
   ]
  },
  {
   "cell_type": "code",
   "execution_count": 107,
   "id": "8feb2b60-2f12-4f77-bbfb-afbedf1111f9",
   "metadata": {},
   "outputs": [
    {
     "data": {
      "text/plain": [
       "{'x': 554, 'y': 581}"
      ]
     },
     "execution_count": 107,
     "metadata": {},
     "output_type": "execute_result"
    }
   ],
   "source": [
    "timeLineDict.get('frames')[0]['participantFrames']['1']['position']"
   ]
  },
  {
   "cell_type": "code",
   "execution_count": 108,
   "id": "073aa7dd-b7cd-4cb9-9da9-1e0b5c1924b6",
   "metadata": {},
   "outputs": [
    {
     "data": {
      "text/plain": [
       "110223"
      ]
     },
     "execution_count": 108,
     "metadata": {},
     "output_type": "execute_result"
    }
   ],
   "source": [
    "len(dataJJSON)"
   ]
  },
  {
   "cell_type": "code",
   "execution_count": 109,
   "id": "bf11bc16-5eb0-4760-8bdf-8613f0818997",
   "metadata": {},
   "outputs": [],
   "source": [
    "with open(\"gameTimeLine.json\", \"w\") as outfile: \n",
    "    outfile.write(dataJJSON)"
   ]
  },
  {
   "cell_type": "code",
   "execution_count": null,
   "id": "ad6e28a8-c0bc-48ed-b760-f8df3e8f1435",
   "metadata": {},
   "outputs": [],
   "source": []
  },
  {
   "cell_type": "markdown",
   "id": "41f7493f-956e-4a20-958a-6924a4c3985f",
   "metadata": {},
   "source": [
    "## Verificação"
   ]
  },
  {
   "cell_type": "code",
   "execution_count": 110,
   "id": "aa8d2c2e-95df-4a2a-a021-cdbb98410fc1",
   "metadata": {},
   "outputs": [
    {
     "data": {
      "text/plain": [
       "dict_keys(['frameInterval', 'frames', 'gameId', 'participants'])"
      ]
     },
     "execution_count": 110,
     "metadata": {},
     "output_type": "execute_result"
    }
   ],
   "source": [
    "timeLineDict.keys()"
   ]
  },
  {
   "cell_type": "code",
   "execution_count": 111,
   "id": "16738d5c-e8c8-4827-9bc6-a397679d9808",
   "metadata": {},
   "outputs": [
    {
     "data": {
      "text/plain": [
       "dict_keys(['gameCreation', 'gameDuration', 'gameEndTimestamp', 'gameId', 'gameMode', 'gameName', 'gameStartTimestamp', 'gameType', 'gameVersion', 'mapId', 'participants', 'platformId', 'queueId', 'seasonId', 'teams', 'tournamentCode'])"
      ]
     },
     "execution_count": 111,
     "metadata": {},
     "output_type": "execute_result"
    }
   ],
   "source": [
    "StatusDict.keys()"
   ]
  },
  {
   "cell_type": "code",
   "execution_count": 112,
   "id": "500e5cc4-feab-4d15-a10f-262ce26af584",
   "metadata": {},
   "outputs": [
    {
     "data": {
      "text/plain": [
       "2781270"
      ]
     },
     "execution_count": 112,
     "metadata": {},
     "output_type": "execute_result"
    }
   ],
   "source": [
    "StatusDict['gameId']"
   ]
  },
  {
   "cell_type": "code",
   "execution_count": 113,
   "id": "08f3ee65-3847-4ef8-b27c-b368ced19077",
   "metadata": {},
   "outputs": [
    {
     "data": {
      "text/html": [
       "<div>\n",
       "<style scoped>\n",
       "    .dataframe tbody tr th:only-of-type {\n",
       "        vertical-align: middle;\n",
       "    }\n",
       "\n",
       "    .dataframe tbody tr th {\n",
       "        vertical-align: top;\n",
       "    }\n",
       "\n",
       "    .dataframe thead th {\n",
       "        text-align: right;\n",
       "    }\n",
       "</style>\n",
       "<table border=\"1\" class=\"dataframe\">\n",
       "  <thead>\n",
       "    <tr style=\"text-align: right;\">\n",
       "      <th></th>\n",
       "      <th>MatchId</th>\n",
       "      <th>GameId</th>\n",
       "      <th>RiotPlatformGameId</th>\n",
       "      <th>RiotGameId</th>\n",
       "      <th>StatsPage</th>\n",
       "      <th>TimelinePage</th>\n",
       "      <th>Vod</th>\n",
       "    </tr>\n",
       "  </thead>\n",
       "  <tbody>\n",
       "    <tr>\n",
       "      <th>0</th>\n",
       "      <td>CBLOL/2022 Season/Split 1 Playoffs_Finals_1</td>\n",
       "      <td>CBLOL/2022 Season/Split 1 Playoffs_Finals_1_1</td>\n",
       "      <td>ESPORTSTMNT03_2658136</td>\n",
       "      <td>2658136</td>\n",
       "      <td>V5 data:ESPORTSTMNT03 2658136</td>\n",
       "      <td>V5 data:ESPORTSTMNT03 2658136/Timeline</td>\n",
       "      <td>https://www.youtube.com/watch?v=sfLfistyYl8</td>\n",
       "    </tr>\n",
       "    <tr>\n",
       "      <th>1</th>\n",
       "      <td>CBLOL/2022 Season/Split 1 Playoffs_Finals_1</td>\n",
       "      <td>CBLOL/2022 Season/Split 1 Playoffs_Finals_1_2</td>\n",
       "      <td>ESPORTSTMNT03_2638459</td>\n",
       "      <td>2638459</td>\n",
       "      <td>V5 data:ESPORTSTMNT03 2638459</td>\n",
       "      <td>V5 data:ESPORTSTMNT03 2638459/Timeline</td>\n",
       "      <td>https://www.youtube.com/watch?v=AVdLJCFdHYU</td>\n",
       "    </tr>\n",
       "    <tr>\n",
       "      <th>2</th>\n",
       "      <td>CBLOL/2022 Season/Split 1 Playoffs_Finals_1</td>\n",
       "      <td>CBLOL/2022 Season/Split 1 Playoffs_Finals_1_3</td>\n",
       "      <td>ESPORTSTMNT03_2638460</td>\n",
       "      <td>2638460</td>\n",
       "      <td>V5 data:ESPORTSTMNT03 2638460</td>\n",
       "      <td>V5 data:ESPORTSTMNT03 2638460/Timeline</td>\n",
       "      <td>https://www.youtube.com/watch?v=2Sa4BL3qY50</td>\n",
       "    </tr>\n",
       "    <tr>\n",
       "      <th>3</th>\n",
       "      <td>CBLOL/2022 Season/Split 1 Playoffs_Finals_1</td>\n",
       "      <td>CBLOL/2022 Season/Split 1 Playoffs_Finals_1_4</td>\n",
       "      <td>ESPORTSTMNT03_2658140</td>\n",
       "      <td>2658140</td>\n",
       "      <td>V5 data:ESPORTSTMNT03 2658140</td>\n",
       "      <td>V5 data:ESPORTSTMNT03 2658140/Timeline</td>\n",
       "      <td>https://www.youtube.com/watch?v=Z3oKLTAIhAg</td>\n",
       "    </tr>\n",
       "    <tr>\n",
       "      <th>4</th>\n",
       "      <td>CBLOL/2022 Season/Split 1 Playoffs_Finals_1</td>\n",
       "      <td>CBLOL/2022 Season/Split 1 Playoffs_Finals_1_5</td>\n",
       "      <td>ESPORTSTMNT03_2658141</td>\n",
       "      <td>2658141</td>\n",
       "      <td>V5 data:ESPORTSTMNT03 2658141</td>\n",
       "      <td>V5 data:ESPORTSTMNT03 2658141/Timeline</td>\n",
       "      <td>https://www.youtube.com/watch?v=8t5wzpylTDs</td>\n",
       "    </tr>\n",
       "    <tr>\n",
       "      <th>...</th>\n",
       "      <td>...</td>\n",
       "      <td>...</td>\n",
       "      <td>...</td>\n",
       "      <td>...</td>\n",
       "      <td>...</td>\n",
       "      <td>...</td>\n",
       "      <td>...</td>\n",
       "    </tr>\n",
       "    <tr>\n",
       "      <th>208</th>\n",
       "      <td>CBLOL/2022 Season/Split 2_Week 9_5</td>\n",
       "      <td>CBLOL/2022 Season/Split 2_Week 9_5_1</td>\n",
       "      <td></td>\n",
       "      <td></td>\n",
       "      <td></td>\n",
       "      <td></td>\n",
       "      <td></td>\n",
       "    </tr>\n",
       "    <tr>\n",
       "      <th>209</th>\n",
       "      <td>CBLOL/2022 Season/Split 2_Week 9_6</td>\n",
       "      <td>CBLOL/2022 Season/Split 2_Week 9_6_1</td>\n",
       "      <td></td>\n",
       "      <td></td>\n",
       "      <td></td>\n",
       "      <td></td>\n",
       "      <td></td>\n",
       "    </tr>\n",
       "    <tr>\n",
       "      <th>210</th>\n",
       "      <td>CBLOL/2022 Season/Split 2_Week 9_7</td>\n",
       "      <td>CBLOL/2022 Season/Split 2_Week 9_7_1</td>\n",
       "      <td></td>\n",
       "      <td></td>\n",
       "      <td></td>\n",
       "      <td></td>\n",
       "      <td></td>\n",
       "    </tr>\n",
       "    <tr>\n",
       "      <th>211</th>\n",
       "      <td>CBLOL/2022 Season/Split 2_Week 9_8</td>\n",
       "      <td>CBLOL/2022 Season/Split 2_Week 9_8_1</td>\n",
       "      <td></td>\n",
       "      <td></td>\n",
       "      <td></td>\n",
       "      <td></td>\n",
       "      <td></td>\n",
       "    </tr>\n",
       "    <tr>\n",
       "      <th>212</th>\n",
       "      <td>CBLOL/2022 Season/Split 2_Week 9_9</td>\n",
       "      <td>CBLOL/2022 Season/Split 2_Week 9_9_1</td>\n",
       "      <td></td>\n",
       "      <td></td>\n",
       "      <td></td>\n",
       "      <td></td>\n",
       "      <td></td>\n",
       "    </tr>\n",
       "  </tbody>\n",
       "</table>\n",
       "<p>213 rows × 7 columns</p>\n",
       "</div>"
      ],
      "text/plain": [
       "                                         MatchId  \\\n",
       "0    CBLOL/2022 Season/Split 1 Playoffs_Finals_1   \n",
       "1    CBLOL/2022 Season/Split 1 Playoffs_Finals_1   \n",
       "2    CBLOL/2022 Season/Split 1 Playoffs_Finals_1   \n",
       "3    CBLOL/2022 Season/Split 1 Playoffs_Finals_1   \n",
       "4    CBLOL/2022 Season/Split 1 Playoffs_Finals_1   \n",
       "..                                           ...   \n",
       "208           CBLOL/2022 Season/Split 2_Week 9_5   \n",
       "209           CBLOL/2022 Season/Split 2_Week 9_6   \n",
       "210           CBLOL/2022 Season/Split 2_Week 9_7   \n",
       "211           CBLOL/2022 Season/Split 2_Week 9_8   \n",
       "212           CBLOL/2022 Season/Split 2_Week 9_9   \n",
       "\n",
       "                                            GameId     RiotPlatformGameId  \\\n",
       "0    CBLOL/2022 Season/Split 1 Playoffs_Finals_1_1  ESPORTSTMNT03_2658136   \n",
       "1    CBLOL/2022 Season/Split 1 Playoffs_Finals_1_2  ESPORTSTMNT03_2638459   \n",
       "2    CBLOL/2022 Season/Split 1 Playoffs_Finals_1_3  ESPORTSTMNT03_2638460   \n",
       "3    CBLOL/2022 Season/Split 1 Playoffs_Finals_1_4  ESPORTSTMNT03_2658140   \n",
       "4    CBLOL/2022 Season/Split 1 Playoffs_Finals_1_5  ESPORTSTMNT03_2658141   \n",
       "..                                             ...                    ...   \n",
       "208           CBLOL/2022 Season/Split 2_Week 9_5_1                          \n",
       "209           CBLOL/2022 Season/Split 2_Week 9_6_1                          \n",
       "210           CBLOL/2022 Season/Split 2_Week 9_7_1                          \n",
       "211           CBLOL/2022 Season/Split 2_Week 9_8_1                          \n",
       "212           CBLOL/2022 Season/Split 2_Week 9_9_1                          \n",
       "\n",
       "    RiotGameId                      StatsPage  \\\n",
       "0      2658136  V5 data:ESPORTSTMNT03 2658136   \n",
       "1      2638459  V5 data:ESPORTSTMNT03 2638459   \n",
       "2      2638460  V5 data:ESPORTSTMNT03 2638460   \n",
       "3      2658140  V5 data:ESPORTSTMNT03 2658140   \n",
       "4      2658141  V5 data:ESPORTSTMNT03 2658141   \n",
       "..         ...                            ...   \n",
       "208                                             \n",
       "209                                             \n",
       "210                                             \n",
       "211                                             \n",
       "212                                             \n",
       "\n",
       "                               TimelinePage  \\\n",
       "0    V5 data:ESPORTSTMNT03 2658136/Timeline   \n",
       "1    V5 data:ESPORTSTMNT03 2638459/Timeline   \n",
       "2    V5 data:ESPORTSTMNT03 2638460/Timeline   \n",
       "3    V5 data:ESPORTSTMNT03 2658140/Timeline   \n",
       "4    V5 data:ESPORTSTMNT03 2658141/Timeline   \n",
       "..                                      ...   \n",
       "208                                           \n",
       "209                                           \n",
       "210                                           \n",
       "211                                           \n",
       "212                                           \n",
       "\n",
       "                                             Vod  \n",
       "0    https://www.youtube.com/watch?v=sfLfistyYl8  \n",
       "1    https://www.youtube.com/watch?v=AVdLJCFdHYU  \n",
       "2    https://www.youtube.com/watch?v=2Sa4BL3qY50  \n",
       "3    https://www.youtube.com/watch?v=Z3oKLTAIhAg  \n",
       "4    https://www.youtube.com/watch?v=8t5wzpylTDs  \n",
       "..                                           ...  \n",
       "208                                               \n",
       "209                                               \n",
       "210                                               \n",
       "211                                               \n",
       "212                                               \n",
       "\n",
       "[213 rows x 7 columns]"
      ]
     },
     "execution_count": 113,
     "metadata": {},
     "output_type": "execute_result"
    }
   ],
   "source": [
    "df_cblol20022"
   ]
  },
  {
   "cell_type": "code",
   "execution_count": 114,
   "id": "d43e5fe4-dc2b-4253-bded-596aae4a405c",
   "metadata": {},
   "outputs": [
    {
     "data": {
      "text/plain": [
       "10"
      ]
     },
     "execution_count": 114,
     "metadata": {},
     "output_type": "execute_result"
    }
   ],
   "source": [
    "len(StatusDict.get('participants'))"
   ]
  },
  {
   "cell_type": "code",
   "execution_count": 115,
   "id": "cb6305c3-8980-4237-adf4-fa623add5713",
   "metadata": {},
   "outputs": [
    {
     "data": {
      "text/plain": [
       "dict_keys(['assists', 'baronKills', 'bountyLevel', 'challenges', 'champExperience', 'champLevel', 'championId', 'championName', 'championTransform', 'consumablesPurchased', 'damageDealtToBuildings', 'damageDealtToObjectives', 'damageDealtToTurrets', 'damageSelfMitigated', 'deaths', 'detectorWardsPlaced', 'doubleKills', 'dragonKills', 'firstBloodAssist', 'firstBloodKill', 'firstTowerAssist', 'firstTowerKill', 'gameEndedInEarlySurrender', 'gameEndedInSurrender', 'goldEarned', 'goldSpent', 'individualPosition', 'inhibitorKills', 'inhibitorTakedowns', 'inhibitorsLost', 'item0', 'item1', 'item2', 'item3', 'item4', 'item5', 'item6', 'itemsPurchased', 'killingSprees', 'kills', 'lane', 'largestCriticalStrike', 'largestKillingSpree', 'largestMultiKill', 'longestTimeSpentLiving', 'magicDamageDealt', 'magicDamageDealtToChampions', 'magicDamageTaken', 'neutralMinionsKilled', 'nexusKills', 'nexusLost', 'nexusTakedowns', 'objectivesStolen', 'objectivesStolenAssists', 'participantId', 'pentaKills', 'perks', 'physicalDamageDealt', 'physicalDamageDealtToChampions', 'physicalDamageTaken', 'profileIcon', 'quadraKills', 'riotIdName', 'riotIdTagline', 'role', 'sightWardsBoughtInGame', 'spell1Casts', 'spell1Id', 'spell2Casts', 'spell2Id', 'spell3Casts', 'spell4Casts', 'summoner1Casts', 'summoner2Casts', 'summonerId', 'summonerLevel', 'summonerName', 'teamEarlySurrendered', 'teamId', 'teamPosition', 'timeCCingOthers', 'timePlayed', 'totalDamageDealt', 'totalDamageDealtToChampions', 'totalDamageShieldedOnTeammates', 'totalDamageTaken', 'totalHeal', 'totalHealsOnTeammates', 'totalMinionsKilled', 'totalTimeCCDealt', 'totalTimeSpentDead', 'totalUnitsHealed', 'tripleKills', 'trueDamageDealt', 'trueDamageDealtToChampions', 'trueDamageTaken', 'turretKills', 'turretTakedowns', 'turretsLost', 'unrealKills', 'visionScore', 'visionWardsBoughtInGame', 'wardsKilled', 'wardsPlaced', 'win'])"
      ]
     },
     "execution_count": 115,
     "metadata": {},
     "output_type": "execute_result"
    }
   ],
   "source": [
    "StatusDict.get('participants')[0].keys()"
   ]
  },
  {
   "cell_type": "code",
   "execution_count": 116,
   "id": "af991e98-ab9b-4b98-8b9e-d835b2f52356",
   "metadata": {},
   "outputs": [
    {
     "data": {
      "text/plain": [
       "'DUO'"
      ]
     },
     "execution_count": 116,
     "metadata": {},
     "output_type": "execute_result"
    }
   ],
   "source": [
    "StatusDict.get('participants')[0].get('role')"
   ]
  },
  {
   "cell_type": "code",
   "execution_count": 117,
   "id": "6bd53eea-6b71-41d7-bf1d-9a37632f3d31",
   "metadata": {},
   "outputs": [
    {
     "data": {
      "text/plain": [
       "1"
      ]
     },
     "execution_count": 117,
     "metadata": {},
     "output_type": "execute_result"
    }
   ],
   "source": [
    "StatusDict.get('participants')[0].get('participantId')"
   ]
  },
  {
   "cell_type": "code",
   "execution_count": 118,
   "id": "c61c9906-1faa-43ab-ad31-b49e9ad30f1f",
   "metadata": {},
   "outputs": [
    {
     "data": {
      "text/plain": [
       "100"
      ]
     },
     "execution_count": 118,
     "metadata": {},
     "output_type": "execute_result"
    }
   ],
   "source": [
    "StatusDict.get('participants')[0].get('teamId')"
   ]
  },
  {
   "cell_type": "code",
   "execution_count": 119,
   "id": "49c1083d-e64b-4381-bb22-33334c60d8c1",
   "metadata": {},
   "outputs": [
    {
     "data": {
      "text/plain": [
       "'AFK'"
      ]
     },
     "execution_count": 119,
     "metadata": {},
     "output_type": "execute_result"
    }
   ],
   "source": [
    "StatusDict.get('participants')[0].get('individualPosition')"
   ]
  },
  {
   "cell_type": "code",
   "execution_count": 120,
   "id": "2f48492d-1fc2-49ee-8461-0533dd00c588",
   "metadata": {},
   "outputs": [
    {
     "data": {
      "text/plain": [
       "{'assists': 11,\n",
       " 'baronKills': 0,\n",
       " 'bountyLevel': 0,\n",
       " 'challenges': {'12AssistStreakCount': 0,\n",
       "  'abilityUses': 203,\n",
       "  'acesBefore15Minutes': 0,\n",
       "  'alliedJungleMonsterKills': 4.000000029802322,\n",
       "  'baronTakedowns': 0,\n",
       "  'blastConeOppositeOpponentCount': 0,\n",
       "  'bountyGold': 0,\n",
       "  'buffsStolen': 0,\n",
       "  'completeSupportQuestInTime': 0,\n",
       "  'controlWardTimeCoverageInRiverOrEnemyHalf': 0.2606325897331084,\n",
       "  'controlWardsPlaced': 3,\n",
       "  'damagePerMinute': 3864.3144176989435,\n",
       "  'damageTakenOnTeamPercentage': 0.2575805706683343,\n",
       "  'dancedWithRiftHerald': 0,\n",
       "  'deathsByEnemyChamps': 5,\n",
       "  'dodgeSkillShotsSmallWindow': 102,\n",
       "  'doubleAces': 0,\n",
       "  'dragonTakedowns': 1,\n",
       "  'earliestBaron': 1771.2004548195139,\n",
       "  'earliestDragonTakedown': 1588.92677176449,\n",
       "  'effectiveHealAndShielding': 0,\n",
       "  'elderDragonKillsWithOpposingSoul': 0,\n",
       "  'elderDragonMultikills': 0,\n",
       "  'enemyChampionImmobilizations': 10,\n",
       "  'enemyJungleMonsterKills': 0,\n",
       "  'epicMonsterKillsNearEnemyJungler': 0,\n",
       "  'epicMonsterKillsWithin30SecondsOfSpawn': 0,\n",
       "  'epicMonsterSteals': 0,\n",
       "  'epicMonsterStolenWithoutSmite': 0,\n",
       "  'firstTurretKilledTime': 716.917070395444,\n",
       "  'flawlessAces': 2,\n",
       "  'fullTeamTakedown': 3,\n",
       "  'gameLength': 2230.638803100506,\n",
       "  'getTakedownsInAllLanesEarlyJungleAsLaner': 0,\n",
       "  'goldPerMinute': 339.86053353696724,\n",
       "  'hadAfkTeammate': 0,\n",
       "  'hadOpenNexus': 0,\n",
       "  'highestCrowdControlScore': 1,\n",
       "  'initialBuffCount': 0,\n",
       "  'initialCrabCount': 0,\n",
       "  'jungleCsBefore10Minutes': 4,\n",
       "  'junglerKillsEarlyJungle': 0,\n",
       "  'junglerTakedownsNearDamagedEpicMonster': 1,\n",
       "  'kTurretsDestroyedBeforePlatesFall': 0,\n",
       "  'kda': 2.8,\n",
       "  'killParticipation': 0.8235294117647058,\n",
       "  'killsNearEnemyTurret': 1,\n",
       "  'killsOnLanersEarlyJungleAsJungler': 0,\n",
       "  'killsOnOtherLanesEarlyJungleAsLaner': 0,\n",
       "  'killsOnRecentlyHealedByAramPack': 0,\n",
       "  'killsUnderOwnTurret': 0,\n",
       "  'killsWithHelpFromEpicMonster': 0,\n",
       "  'landSkillShotsEarlyGame': 14,\n",
       "  'laneMinionsFirst10Minutes': 84,\n",
       "  'legendaryCount': 0,\n",
       "  'lostAnInhibitor': 0,\n",
       "  'maxKillDeficit': 0,\n",
       "  'moreEnemyJungleThanOpponent': -133.00000005960464,\n",
       "  'multiKillOneSpell': 0,\n",
       "  'multiTurretRiftHeraldCount': 0,\n",
       "  'multikills': 0,\n",
       "  'multikillsAfterAggressiveFlash': 0,\n",
       "  'mythicItemUsed': 6662,\n",
       "  'outerTurretExecutesBefore10Minutes': 0,\n",
       "  'outnumberedKills': 0,\n",
       "  'outnumberedNexusKill': 0,\n",
       "  'perfectDragonSoulsTaken': 0,\n",
       "  'perfectGame': 0,\n",
       "  'poroExplosions': 0,\n",
       "  'quickCleanse': 0,\n",
       "  'quickFirstTurret': 0,\n",
       "  'quickSoloKills': 0,\n",
       "  'riftHeraldTakedowns': 1,\n",
       "  'scuttleCrabKills': 1,\n",
       "  'skillshotsDodged': 167,\n",
       "  'skillshotsHit': 83,\n",
       "  'snowballsHit': 0,\n",
       "  'soloBaronKills': 0,\n",
       "  'soloKills': 0,\n",
       "  'soloTurretsLategame': 4,\n",
       "  'stealthWardsPlaced': 14,\n",
       "  'survivedSingleDigitHpCount': 0,\n",
       "  'takedownOnFirstTurret': 0,\n",
       "  'takedowns': 14,\n",
       "  'takedownsAfterGainingLevelAdvantage': 0,\n",
       "  'takedownsBeforeJungleMinionSpawn': 0,\n",
       "  'takedownsFirst25Minutes': 4,\n",
       "  'takedownsInAlcove': 0,\n",
       "  'takedownsInEnemyFountain': 0,\n",
       "  'teamBaronKills': 1,\n",
       "  'teamDamagePercentage': 0.19221460262335485,\n",
       "  'teamElderDragonKills': 0,\n",
       "  'teamRiftHeraldKills': 2,\n",
       "  'threeWardsOneSweeperCount': 0,\n",
       "  'turretPlatesTaken': 0,\n",
       "  'turretTakedowns': 1,\n",
       "  'turretsTakenWithRiftHerald': 15,\n",
       "  'twentyMinionsIn3SecondsCount': 0,\n",
       "  'unseenRecalls': 0,\n",
       "  'visionScorePerMinute': 1.0165493033373423,\n",
       "  'wardTakedowns': 4,\n",
       "  'wardTakedownsBefore20M': 1,\n",
       "  'wardsGuarded': 1},\n",
       " 'champExperience': 16774,\n",
       " 'champLevel': 17,\n",
       " 'championId': 54,\n",
       " 'championName': 'Malphite',\n",
       " 'championTransform': 0,\n",
       " 'consumablesPurchased': 5,\n",
       " 'damageDealtToBuildings': 758,\n",
       " 'damageDealtToObjectives': 3708,\n",
       " 'damageDealtToTurrets': 758,\n",
       " 'damageSelfMitigated': 85747,\n",
       " 'deaths': 5,\n",
       " 'detectorWardsPlaced': 3,\n",
       " 'doubleKills': 0,\n",
       " 'dragonKills': 0,\n",
       " 'firstBloodAssist': False,\n",
       " 'firstBloodKill': False,\n",
       " 'firstTowerAssist': False,\n",
       " 'firstTowerKill': False,\n",
       " 'gameEndedInEarlySurrender': False,\n",
       " 'gameEndedInSurrender': False,\n",
       " 'goldEarned': 12635,\n",
       " 'goldSpent': 11980,\n",
       " 'individualPosition': 'AFK',\n",
       " 'inhibitorKills': 0,\n",
       " 'inhibitorTakedowns': 0,\n",
       " 'inhibitorsLost': 0,\n",
       " 'item0': 3143,\n",
       " 'item1': 3047,\n",
       " 'item2': 1011,\n",
       " 'item3': 3075,\n",
       " 'item4': 3067,\n",
       " 'item5': 6662,\n",
       " 'item6': 3340,\n",
       " 'itemsPurchased': 25,\n",
       " 'killingSprees': 0,\n",
       " 'kills': 3,\n",
       " 'lane': 'MIDDLE',\n",
       " 'largestCriticalStrike': 32,\n",
       " 'largestKillingSpree': 0,\n",
       " 'largestMultiKill': 1,\n",
       " 'longestTimeSpentLiving': 958,\n",
       " 'magicDamageDealt': 85855,\n",
       " 'magicDamageDealtToChampions': 11889,\n",
       " 'magicDamageTaken': 4230,\n",
       " 'neutralMinionsKilled': 8,\n",
       " 'nexusKills': 0,\n",
       " 'nexusLost': 0,\n",
       " 'nexusTakedowns': 1,\n",
       " 'objectivesStolen': 0,\n",
       " 'objectivesStolenAssists': 0,\n",
       " 'participantId': 1,\n",
       " 'pentaKills': 0,\n",
       " 'perks': {'statPerks': {'defense': 5002, 'flex': 5002, 'offense': 5005},\n",
       "  'styles': [{'description': 'primaryStyle',\n",
       "    'selections': [{'perk': 8437, 'var1': 1264, 'var2': 1226, 'var3': 0},\n",
       "     {'perk': 8446, 'var1': 519, 'var2': 0, 'var3': 0},\n",
       "     {'perk': 8444, 'var1': 1758, 'var2': 0, 'var3': 0},\n",
       "     {'perk': 8451, 'var1': 269, 'var2': 0, 'var3': 0}],\n",
       "    'style': 8400},\n",
       "   {'description': 'subStyle',\n",
       "    'selections': [{'perk': 8345, 'var1': 3, 'var2': 0, 'var3': 0},\n",
       "     {'perk': 8347, 'var1': 0, 'var2': 0, 'var3': 0}],\n",
       "    'style': 8300}]},\n",
       " 'physicalDamageDealt': 55571,\n",
       " 'physicalDamageDealtToChampions': 6739,\n",
       " 'physicalDamageTaken': 23130,\n",
       " 'profileIcon': 29,\n",
       " 'quadraKills': 0,\n",
       " 'riotIdName': '',\n",
       " 'riotIdTagline': '',\n",
       " 'role': 'DUO',\n",
       " 'sightWardsBoughtInGame': 0,\n",
       " 'spell1Casts': 39,\n",
       " 'spell1Id': 4,\n",
       " 'spell2Casts': 69,\n",
       " 'spell2Id': 12,\n",
       " 'spell3Casts': 85,\n",
       " 'spell4Casts': 10,\n",
       " 'summoner1Casts': 4,\n",
       " 'summoner2Casts': 5,\n",
       " 'summonerId': 2886906285852384,\n",
       " 'summonerLevel': 30,\n",
       " 'summonerName': 'RNS Edger',\n",
       " 'teamEarlySurrendered': False,\n",
       " 'teamId': 100,\n",
       " 'teamPosition': 'AFK',\n",
       " 'timeCCingOthers': 29,\n",
       " 'timePlayed': 2230,\n",
       " 'totalDamageDealt': 143664,\n",
       " 'totalDamageDealtToChampions': 20866,\n",
       " 'totalDamageShieldedOnTeammates': 0,\n",
       " 'totalDamageTaken': 32723,\n",
       " 'totalHeal': 4690,\n",
       " 'totalHealsOnTeammates': 0,\n",
       " 'totalMinionsKilled': 228,\n",
       " 'totalTimeCCDealt': 1321,\n",
       " 'totalTimeSpentDead': 209,\n",
       " 'totalUnitsHealed': 1,\n",
       " 'tripleKills': 0,\n",
       " 'trueDamageDealt': 2237,\n",
       " 'trueDamageDealtToChampions': 2237,\n",
       " 'trueDamageTaken': 5361,\n",
       " 'turretKills': 1,\n",
       " 'turretTakedowns': 1,\n",
       " 'turretsLost': 7,\n",
       " 'unrealKills': 0,\n",
       " 'visionScore': 37,\n",
       " 'visionWardsBoughtInGame': 4,\n",
       " 'wardsKilled': 4,\n",
       " 'wardsPlaced': 17,\n",
       " 'win': True}"
      ]
     },
     "execution_count": 120,
     "metadata": {},
     "output_type": "execute_result"
    }
   ],
   "source": [
    "StatusDict.get('participants')[0]"
   ]
  },
  {
   "cell_type": "code",
   "execution_count": 121,
   "id": "6760f58a-eb46-4a27-8d58-9995009258c5",
   "metadata": {},
   "outputs": [
    {
     "data": {
      "text/plain": [
       "MatchId                        CBLOL/2022 Season/Split 1_Week 7_9\n",
       "GameId                       CBLOL/2022 Season/Split 1_Week 7_9_1\n",
       "RiotPlatformGameId                          ESPORTSTMNT01_2781270\n",
       "RiotGameId                                                2781270\n",
       "StatsPage                           V5 data:ESPORTSTMNT01 2781270\n",
       "TimelinePage               V5 data:ESPORTSTMNT01 2781270/Timeline\n",
       "Vod                   https://www.youtube.com/watch?v=MJT4QtalWio\n",
       "Name: 102, dtype: object"
      ]
     },
     "execution_count": 121,
     "metadata": {},
     "output_type": "execute_result"
    }
   ],
   "source": [
    "df_cblol20022.loc[102,:]"
   ]
  },
  {
   "cell_type": "markdown",
   "id": "47050480-2c0f-4abd-a227-135486d1263e",
   "metadata": {},
   "source": [
    "## Verificação da partida por vídeo"
   ]
  },
  {
   "cell_type": "code",
   "execution_count": 122,
   "id": "cdf1d5fa-bb25-4efe-b376-c2a569de78b4",
   "metadata": {},
   "outputs": [
    {
     "data": {
      "text/plain": [
       "'https://www.youtube.com/watch?v=MJT4QtalWio'"
      ]
     },
     "execution_count": 122,
     "metadata": {},
     "output_type": "execute_result"
    }
   ],
   "source": [
    "df_cblol20022.Vod[102]"
   ]
  },
  {
   "cell_type": "code",
   "execution_count": 123,
   "id": "a9cb1e9d-0c3b-4a8e-b320-3600ab1b6868",
   "metadata": {},
   "outputs": [
    {
     "data": {
      "text/plain": [
       "dict_keys(['gameCreation', 'gameDuration', 'gameEndTimestamp', 'gameId', 'gameMode', 'gameName', 'gameStartTimestamp', 'gameType', 'gameVersion', 'mapId', 'participants', 'platformId', 'queueId', 'seasonId', 'teams', 'tournamentCode'])"
      ]
     },
     "execution_count": 123,
     "metadata": {},
     "output_type": "execute_result"
    }
   ],
   "source": [
    "StatusDict.keys()"
   ]
  },
  {
   "cell_type": "code",
   "execution_count": 124,
   "id": "8d7556a9-79e3-4bc2-b6e3-b666618d97f3",
   "metadata": {},
   "outputs": [],
   "source": [
    "response = site.api('cargoquery',\n",
    "\ttables = \"ScoreboardGames=SG,ScoreboardTeams=ST\",\n",
    "    join_on = \"SG.GameId=ST.GameId\",\n",
    "\tfields = \"ST.Team,ST.GameId,ST.Side,ST.IsWinner, SG.Team1,SG.Team1,SG.Team2,ST.Number\",\n",
    "    where = \"SG.GameId='CBLOL/2022 Season/Split 1_Week 8_1_1' OR SG.GameId='CBLOL/2022 Season/Split 1_Week 7_9_1' \" ,\n",
    "    limit = 'max'\n",
    ")"
   ]
  },
  {
   "cell_type": "code",
   "execution_count": 125,
   "id": "b7a63720-903e-4ab6-9726-848e9bf3af0e",
   "metadata": {},
   "outputs": [
    {
     "data": {
      "text/html": [
       "<div>\n",
       "<style scoped>\n",
       "    .dataframe tbody tr th:only-of-type {\n",
       "        vertical-align: middle;\n",
       "    }\n",
       "\n",
       "    .dataframe tbody tr th {\n",
       "        vertical-align: top;\n",
       "    }\n",
       "\n",
       "    .dataframe thead th {\n",
       "        text-align: right;\n",
       "    }\n",
       "</style>\n",
       "<table border=\"1\" class=\"dataframe\">\n",
       "  <thead>\n",
       "    <tr style=\"text-align: right;\">\n",
       "      <th></th>\n",
       "      <th>Team</th>\n",
       "      <th>GameId</th>\n",
       "      <th>Side</th>\n",
       "      <th>IsWinner</th>\n",
       "      <th>Team1</th>\n",
       "      <th>Team2</th>\n",
       "      <th>Number</th>\n",
       "    </tr>\n",
       "  </thead>\n",
       "  <tbody>\n",
       "    <tr>\n",
       "      <th>0</th>\n",
       "      <td>FURIA Esports</td>\n",
       "      <td>CBLOL/2022 Season/Split 1_Week 7_9_1</td>\n",
       "      <td>Red</td>\n",
       "      <td>0</td>\n",
       "      <td>Rensga Esports</td>\n",
       "      <td>FURIA Esports</td>\n",
       "      <td>2</td>\n",
       "    </tr>\n",
       "    <tr>\n",
       "      <th>1</th>\n",
       "      <td>Liberty</td>\n",
       "      <td>CBLOL/2022 Season/Split 1_Week 8_1_1</td>\n",
       "      <td>Red</td>\n",
       "      <td>0</td>\n",
       "      <td>Netshoes Miners</td>\n",
       "      <td>Liberty</td>\n",
       "      <td>2</td>\n",
       "    </tr>\n",
       "    <tr>\n",
       "      <th>2</th>\n",
       "      <td>Netshoes Miners</td>\n",
       "      <td>CBLOL/2022 Season/Split 1_Week 8_1_1</td>\n",
       "      <td>Blue</td>\n",
       "      <td>1</td>\n",
       "      <td>Netshoes Miners</td>\n",
       "      <td>Liberty</td>\n",
       "      <td>1</td>\n",
       "    </tr>\n",
       "    <tr>\n",
       "      <th>3</th>\n",
       "      <td>Rensga Esports</td>\n",
       "      <td>CBLOL/2022 Season/Split 1_Week 7_9_1</td>\n",
       "      <td>Blue</td>\n",
       "      <td>1</td>\n",
       "      <td>Rensga Esports</td>\n",
       "      <td>FURIA Esports</td>\n",
       "      <td>1</td>\n",
       "    </tr>\n",
       "  </tbody>\n",
       "</table>\n",
       "</div>"
      ],
      "text/plain": [
       "              Team                                GameId  Side  IsWinner  \\\n",
       "0    FURIA Esports  CBLOL/2022 Season/Split 1_Week 7_9_1   Red         0   \n",
       "1          Liberty  CBLOL/2022 Season/Split 1_Week 8_1_1   Red         0   \n",
       "2  Netshoes Miners  CBLOL/2022 Season/Split 1_Week 8_1_1  Blue         1   \n",
       "3   Rensga Esports  CBLOL/2022 Season/Split 1_Week 7_9_1  Blue         1   \n",
       "\n",
       "             Team1          Team2  Number  \n",
       "0   Rensga Esports  FURIA Esports       2  \n",
       "1  Netshoes Miners        Liberty       2  \n",
       "2  Netshoes Miners        Liberty       1  \n",
       "3   Rensga Esports  FURIA Esports       1  "
      ]
     },
     "execution_count": 125,
     "metadata": {},
     "output_type": "execute_result"
    }
   ],
   "source": [
    "jsonData = json.dumps(response['cargoquery'])\n",
    "ParseData = jsonData.replace('''{\"title\\\":''','').replace(\"}}\",'}')\n",
    "df_TESTE= pd.read_json(ParseData, orient = 'values' )\n",
    "df_TESTE"
   ]
  },
  {
   "cell_type": "markdown",
   "id": "4aabe522-4bbf-419d-a74f-130756cb5178",
   "metadata": {},
   "source": [
    "## 103 tabela"
   ]
  },
  {
   "cell_type": "code",
   "execution_count": 126,
   "id": "bf3f6acb-bdca-4ebc-a170-7458f6292a95",
   "metadata": {},
   "outputs": [
    {
     "data": {
      "text/html": [
       "<div>\n",
       "<style scoped>\n",
       "    .dataframe tbody tr th:only-of-type {\n",
       "        vertical-align: middle;\n",
       "    }\n",
       "\n",
       "    .dataframe tbody tr th {\n",
       "        vertical-align: top;\n",
       "    }\n",
       "\n",
       "    .dataframe thead th {\n",
       "        text-align: right;\n",
       "    }\n",
       "</style>\n",
       "<table border=\"1\" class=\"dataframe\">\n",
       "  <thead>\n",
       "    <tr style=\"text-align: right;\">\n",
       "      <th></th>\n",
       "      <th>MatchId</th>\n",
       "      <th>GameId</th>\n",
       "      <th>RiotPlatformGameId</th>\n",
       "      <th>RiotGameId</th>\n",
       "      <th>StatsPage</th>\n",
       "      <th>TimelinePage</th>\n",
       "      <th>Vod</th>\n",
       "    </tr>\n",
       "  </thead>\n",
       "  <tbody>\n",
       "    <tr>\n",
       "      <th>102</th>\n",
       "      <td>CBLOL/2022 Season/Split 1_Week 7_9</td>\n",
       "      <td>CBLOL/2022 Season/Split 1_Week 7_9_1</td>\n",
       "      <td>ESPORTSTMNT01_2781270</td>\n",
       "      <td>2781270</td>\n",
       "      <td>V5 data:ESPORTSTMNT01 2781270</td>\n",
       "      <td>V5 data:ESPORTSTMNT01 2781270/Timeline</td>\n",
       "      <td>https://www.youtube.com/watch?v=MJT4QtalWio</td>\n",
       "    </tr>\n",
       "    <tr>\n",
       "      <th>103</th>\n",
       "      <td>CBLOL/2022 Season/Split 1_Week 8_1</td>\n",
       "      <td>CBLOL/2022 Season/Split 1_Week 8_1_1</td>\n",
       "      <td>ESPORTSTMNT02_2660083</td>\n",
       "      <td>2660083</td>\n",
       "      <td>V5 data:ESPORTSTMNT02 2660083</td>\n",
       "      <td>V5 data:ESPORTSTMNT02 2660083/Timeline</td>\n",
       "      <td>https://www.youtube.com/watch?v=ETH9f5LP3oM</td>\n",
       "    </tr>\n",
       "    <tr>\n",
       "      <th>104</th>\n",
       "      <td>CBLOL/2022 Season/Split 1_Week 8_10</td>\n",
       "      <td>CBLOL/2022 Season/Split 1_Week 8_10_1</td>\n",
       "      <td>ESPORTSTMNT02_2660639</td>\n",
       "      <td>2660639</td>\n",
       "      <td>V5 data:ESPORTSTMNT02 2660639</td>\n",
       "      <td>V5 data:ESPORTSTMNT02 2660639/Timeline</td>\n",
       "      <td>https://www.youtube.com/watch?v=DNUK4_Nuzco</td>\n",
       "    </tr>\n",
       "  </tbody>\n",
       "</table>\n",
       "</div>"
      ],
      "text/plain": [
       "                                 MatchId  \\\n",
       "102   CBLOL/2022 Season/Split 1_Week 7_9   \n",
       "103   CBLOL/2022 Season/Split 1_Week 8_1   \n",
       "104  CBLOL/2022 Season/Split 1_Week 8_10   \n",
       "\n",
       "                                    GameId     RiotPlatformGameId RiotGameId  \\\n",
       "102   CBLOL/2022 Season/Split 1_Week 7_9_1  ESPORTSTMNT01_2781270    2781270   \n",
       "103   CBLOL/2022 Season/Split 1_Week 8_1_1  ESPORTSTMNT02_2660083    2660083   \n",
       "104  CBLOL/2022 Season/Split 1_Week 8_10_1  ESPORTSTMNT02_2660639    2660639   \n",
       "\n",
       "                         StatsPage                            TimelinePage  \\\n",
       "102  V5 data:ESPORTSTMNT01 2781270  V5 data:ESPORTSTMNT01 2781270/Timeline   \n",
       "103  V5 data:ESPORTSTMNT02 2660083  V5 data:ESPORTSTMNT02 2660083/Timeline   \n",
       "104  V5 data:ESPORTSTMNT02 2660639  V5 data:ESPORTSTMNT02 2660639/Timeline   \n",
       "\n",
       "                                             Vod  \n",
       "102  https://www.youtube.com/watch?v=MJT4QtalWio  \n",
       "103  https://www.youtube.com/watch?v=ETH9f5LP3oM  \n",
       "104  https://www.youtube.com/watch?v=DNUK4_Nuzco  "
      ]
     },
     "execution_count": 126,
     "metadata": {},
     "output_type": "execute_result"
    }
   ],
   "source": [
    "df_cblol20022.loc[102:104,:]"
   ]
  },
  {
   "cell_type": "code",
   "execution_count": 127,
   "id": "1d42f6bf-603f-4adb-8d29-e775c6749365",
   "metadata": {},
   "outputs": [],
   "source": [
    "statusLinkPage = df_cblol20022.StatsPage[102]\n",
    "gameLinkPage = df_cblol20022.TimelinePage[102]"
   ]
  },
  {
   "cell_type": "code",
   "execution_count": 128,
   "id": "9c7c462d-bbdf-4746-9960-45bd74fa4e3e",
   "metadata": {},
   "outputs": [],
   "source": [
    "a1 =  site.pages[statusLinkPage]"
   ]
  },
  {
   "cell_type": "code",
   "execution_count": 129,
   "id": "e723307d-159f-4d07-8603-75bb4b88dde9",
   "metadata": {},
   "outputs": [
    {
     "data": {
      "text/plain": [
       "dict_keys(['gameCreation', 'gameDuration', 'gameEndTimestamp', 'gameId', 'gameMode', 'gameName', 'gameStartTimestamp', 'gameType', 'gameVersion', 'mapId', 'participants', 'platformId', 'queueId', 'seasonId', 'teams', 'tournamentCode'])"
      ]
     },
     "execution_count": 129,
     "metadata": {},
     "output_type": "execute_result"
    }
   ],
   "source": [
    "statusLinkPage = df_cblol20022.StatsPage[102]\n",
    "a1 =  site.pages[statusLinkPage]\n",
    "dataJJSON = a1.text()\n",
    "statusA1 = json.loads(dataJJSON)\n",
    "statusA1.keys()"
   ]
  },
  {
   "cell_type": "code",
   "execution_count": 130,
   "id": "d0399788-7f82-4883-a3ff-91bbb1dfe323",
   "metadata": {},
   "outputs": [
    {
     "name": "stdout",
     "output_type": "stream",
     "text": [
      "1646596929000\n",
      "2230\n",
      "1646600416473\n",
      "2781270\n",
      "CLASSIC\n",
      "107405837336966051|game1\n",
      "1646598186080\n",
      "CUSTOM_GAME\n",
      "12.4.425.1658\n",
      "11\n",
      "ESPORTSTMNT01\n",
      "0\n",
      "0\n",
      "[{'bans': [{'championId': 887, 'pickTurn': 1}, {'championId': 711, 'pickTurn': 3}, {'championId': 126, 'pickTurn': 5}, {'championId': 89, 'pickTurn': 2}, {'championId': 23, 'pickTurn': 4}], 'objectives': {'baron': {'first': True, 'kills': 1}, 'champion': {'first': True, 'kills': 32}, 'dragon': {'first': False, 'kills': 1}, 'inhibitor': {'first': True, 'kills': 3}, 'riftHerald': {'first': True, 'kills': 2}, 'tower': {'first': True, 'kills': 10}}, 'teamId': 100, 'win': True}, {'bans': [{'championId': 5, 'pickTurn': 2}, {'championId': 221, 'pickTurn': 4}, {'championId': 412, 'pickTurn': 6}, {'championId': 150, 'pickTurn': 1}, {'championId': 99, 'pickTurn': 3}], 'objectives': {'baron': {'first': False, 'kills': 0}, 'champion': {'first': False, 'kills': 17}, 'dragon': {'first': True, 'kills': 4}, 'inhibitor': {'first': False, 'kills': 0}, 'riftHerald': {'first': False, 'kills': 0}, 'tower': {'first': False, 'kills': 7}}, 'teamId': 200, 'win': False}]\n",
      "\n"
     ]
    }
   ],
   "source": [
    "for i in statusA1.keys():\n",
    "    if i!= 'participants':\n",
    "        print(statusA1.get(i))"
   ]
  },
  {
   "cell_type": "code",
   "execution_count": 131,
   "id": "d03d643c",
   "metadata": {},
   "outputs": [
    {
     "data": {
      "text/plain": [
       "[{'bans': [{'championId': 887, 'pickTurn': 1},\n",
       "   {'championId': 711, 'pickTurn': 3},\n",
       "   {'championId': 126, 'pickTurn': 5},\n",
       "   {'championId': 89, 'pickTurn': 2},\n",
       "   {'championId': 23, 'pickTurn': 4}],\n",
       "  'objectives': {'baron': {'first': True, 'kills': 1},\n",
       "   'champion': {'first': True, 'kills': 32},\n",
       "   'dragon': {'first': False, 'kills': 1},\n",
       "   'inhibitor': {'first': True, 'kills': 3},\n",
       "   'riftHerald': {'first': True, 'kills': 2},\n",
       "   'tower': {'first': True, 'kills': 10}},\n",
       "  'teamId': 100,\n",
       "  'win': True},\n",
       " {'bans': [{'championId': 5, 'pickTurn': 2},\n",
       "   {'championId': 221, 'pickTurn': 4},\n",
       "   {'championId': 412, 'pickTurn': 6},\n",
       "   {'championId': 150, 'pickTurn': 1},\n",
       "   {'championId': 99, 'pickTurn': 3}],\n",
       "  'objectives': {'baron': {'first': False, 'kills': 0},\n",
       "   'champion': {'first': False, 'kills': 17},\n",
       "   'dragon': {'first': True, 'kills': 4},\n",
       "   'inhibitor': {'first': False, 'kills': 0},\n",
       "   'riftHerald': {'first': False, 'kills': 0},\n",
       "   'tower': {'first': False, 'kills': 7}},\n",
       "  'teamId': 200,\n",
       "  'win': False}]"
      ]
     },
     "execution_count": 131,
     "metadata": {},
     "output_type": "execute_result"
    }
   ],
   "source": [
    "statusA1['teams']"
   ]
  },
  {
   "cell_type": "code",
   "execution_count": 132,
   "id": "9a15529c",
   "metadata": {},
   "outputs": [
    {
     "data": {
      "text/plain": [
       "10"
      ]
     },
     "execution_count": 132,
     "metadata": {},
     "output_type": "execute_result"
    }
   ],
   "source": [
    "len(statusA1['participants'])"
   ]
  },
  {
   "cell_type": "code",
   "execution_count": 133,
   "id": "ca22904e",
   "metadata": {},
   "outputs": [
    {
     "data": {
      "text/plain": [
       "{'assists': 11,\n",
       " 'baronKills': 0,\n",
       " 'bountyLevel': 0,\n",
       " 'challenges': {'12AssistStreakCount': 0,\n",
       "  'abilityUses': 203,\n",
       "  'acesBefore15Minutes': 0,\n",
       "  'alliedJungleMonsterKills': 4.000000029802322,\n",
       "  'baronTakedowns': 0,\n",
       "  'blastConeOppositeOpponentCount': 0,\n",
       "  'bountyGold': 0,\n",
       "  'buffsStolen': 0,\n",
       "  'completeSupportQuestInTime': 0,\n",
       "  'controlWardTimeCoverageInRiverOrEnemyHalf': 0.2606325897331084,\n",
       "  'controlWardsPlaced': 3,\n",
       "  'damagePerMinute': 3864.3144176989435,\n",
       "  'damageTakenOnTeamPercentage': 0.2575805706683343,\n",
       "  'dancedWithRiftHerald': 0,\n",
       "  'deathsByEnemyChamps': 5,\n",
       "  'dodgeSkillShotsSmallWindow': 102,\n",
       "  'doubleAces': 0,\n",
       "  'dragonTakedowns': 1,\n",
       "  'earliestBaron': 1771.2004548195139,\n",
       "  'earliestDragonTakedown': 1588.92677176449,\n",
       "  'effectiveHealAndShielding': 0,\n",
       "  'elderDragonKillsWithOpposingSoul': 0,\n",
       "  'elderDragonMultikills': 0,\n",
       "  'enemyChampionImmobilizations': 10,\n",
       "  'enemyJungleMonsterKills': 0,\n",
       "  'epicMonsterKillsNearEnemyJungler': 0,\n",
       "  'epicMonsterKillsWithin30SecondsOfSpawn': 0,\n",
       "  'epicMonsterSteals': 0,\n",
       "  'epicMonsterStolenWithoutSmite': 0,\n",
       "  'firstTurretKilledTime': 716.917070395444,\n",
       "  'flawlessAces': 2,\n",
       "  'fullTeamTakedown': 3,\n",
       "  'gameLength': 2230.638803100506,\n",
       "  'getTakedownsInAllLanesEarlyJungleAsLaner': 0,\n",
       "  'goldPerMinute': 339.86053353696724,\n",
       "  'hadAfkTeammate': 0,\n",
       "  'hadOpenNexus': 0,\n",
       "  'highestCrowdControlScore': 1,\n",
       "  'initialBuffCount': 0,\n",
       "  'initialCrabCount': 0,\n",
       "  'jungleCsBefore10Minutes': 4,\n",
       "  'junglerKillsEarlyJungle': 0,\n",
       "  'junglerTakedownsNearDamagedEpicMonster': 1,\n",
       "  'kTurretsDestroyedBeforePlatesFall': 0,\n",
       "  'kda': 2.8,\n",
       "  'killParticipation': 0.8235294117647058,\n",
       "  'killsNearEnemyTurret': 1,\n",
       "  'killsOnLanersEarlyJungleAsJungler': 0,\n",
       "  'killsOnOtherLanesEarlyJungleAsLaner': 0,\n",
       "  'killsOnRecentlyHealedByAramPack': 0,\n",
       "  'killsUnderOwnTurret': 0,\n",
       "  'killsWithHelpFromEpicMonster': 0,\n",
       "  'landSkillShotsEarlyGame': 14,\n",
       "  'laneMinionsFirst10Minutes': 84,\n",
       "  'legendaryCount': 0,\n",
       "  'lostAnInhibitor': 0,\n",
       "  'maxKillDeficit': 0,\n",
       "  'moreEnemyJungleThanOpponent': -133.00000005960464,\n",
       "  'multiKillOneSpell': 0,\n",
       "  'multiTurretRiftHeraldCount': 0,\n",
       "  'multikills': 0,\n",
       "  'multikillsAfterAggressiveFlash': 0,\n",
       "  'mythicItemUsed': 6662,\n",
       "  'outerTurretExecutesBefore10Minutes': 0,\n",
       "  'outnumberedKills': 0,\n",
       "  'outnumberedNexusKill': 0,\n",
       "  'perfectDragonSoulsTaken': 0,\n",
       "  'perfectGame': 0,\n",
       "  'poroExplosions': 0,\n",
       "  'quickCleanse': 0,\n",
       "  'quickFirstTurret': 0,\n",
       "  'quickSoloKills': 0,\n",
       "  'riftHeraldTakedowns': 1,\n",
       "  'scuttleCrabKills': 1,\n",
       "  'skillshotsDodged': 167,\n",
       "  'skillshotsHit': 83,\n",
       "  'snowballsHit': 0,\n",
       "  'soloBaronKills': 0,\n",
       "  'soloKills': 0,\n",
       "  'soloTurretsLategame': 4,\n",
       "  'stealthWardsPlaced': 14,\n",
       "  'survivedSingleDigitHpCount': 0,\n",
       "  'takedownOnFirstTurret': 0,\n",
       "  'takedowns': 14,\n",
       "  'takedownsAfterGainingLevelAdvantage': 0,\n",
       "  'takedownsBeforeJungleMinionSpawn': 0,\n",
       "  'takedownsFirst25Minutes': 4,\n",
       "  'takedownsInAlcove': 0,\n",
       "  'takedownsInEnemyFountain': 0,\n",
       "  'teamBaronKills': 1,\n",
       "  'teamDamagePercentage': 0.19221460262335485,\n",
       "  'teamElderDragonKills': 0,\n",
       "  'teamRiftHeraldKills': 2,\n",
       "  'threeWardsOneSweeperCount': 0,\n",
       "  'turretPlatesTaken': 0,\n",
       "  'turretTakedowns': 1,\n",
       "  'turretsTakenWithRiftHerald': 15,\n",
       "  'twentyMinionsIn3SecondsCount': 0,\n",
       "  'unseenRecalls': 0,\n",
       "  'visionScorePerMinute': 1.0165493033373423,\n",
       "  'wardTakedowns': 4,\n",
       "  'wardTakedownsBefore20M': 1,\n",
       "  'wardsGuarded': 1},\n",
       " 'champExperience': 16774,\n",
       " 'champLevel': 17,\n",
       " 'championId': 54,\n",
       " 'championName': 'Malphite',\n",
       " 'championTransform': 0,\n",
       " 'consumablesPurchased': 5,\n",
       " 'damageDealtToBuildings': 758,\n",
       " 'damageDealtToObjectives': 3708,\n",
       " 'damageDealtToTurrets': 758,\n",
       " 'damageSelfMitigated': 85747,\n",
       " 'deaths': 5,\n",
       " 'detectorWardsPlaced': 3,\n",
       " 'doubleKills': 0,\n",
       " 'dragonKills': 0,\n",
       " 'firstBloodAssist': False,\n",
       " 'firstBloodKill': False,\n",
       " 'firstTowerAssist': False,\n",
       " 'firstTowerKill': False,\n",
       " 'gameEndedInEarlySurrender': False,\n",
       " 'gameEndedInSurrender': False,\n",
       " 'goldEarned': 12635,\n",
       " 'goldSpent': 11980,\n",
       " 'individualPosition': 'AFK',\n",
       " 'inhibitorKills': 0,\n",
       " 'inhibitorTakedowns': 0,\n",
       " 'inhibitorsLost': 0,\n",
       " 'item0': 3143,\n",
       " 'item1': 3047,\n",
       " 'item2': 1011,\n",
       " 'item3': 3075,\n",
       " 'item4': 3067,\n",
       " 'item5': 6662,\n",
       " 'item6': 3340,\n",
       " 'itemsPurchased': 25,\n",
       " 'killingSprees': 0,\n",
       " 'kills': 3,\n",
       " 'lane': 'MIDDLE',\n",
       " 'largestCriticalStrike': 32,\n",
       " 'largestKillingSpree': 0,\n",
       " 'largestMultiKill': 1,\n",
       " 'longestTimeSpentLiving': 958,\n",
       " 'magicDamageDealt': 85855,\n",
       " 'magicDamageDealtToChampions': 11889,\n",
       " 'magicDamageTaken': 4230,\n",
       " 'neutralMinionsKilled': 8,\n",
       " 'nexusKills': 0,\n",
       " 'nexusLost': 0,\n",
       " 'nexusTakedowns': 1,\n",
       " 'objectivesStolen': 0,\n",
       " 'objectivesStolenAssists': 0,\n",
       " 'participantId': 1,\n",
       " 'pentaKills': 0,\n",
       " 'perks': {'statPerks': {'defense': 5002, 'flex': 5002, 'offense': 5005},\n",
       "  'styles': [{'description': 'primaryStyle',\n",
       "    'selections': [{'perk': 8437, 'var1': 1264, 'var2': 1226, 'var3': 0},\n",
       "     {'perk': 8446, 'var1': 519, 'var2': 0, 'var3': 0},\n",
       "     {'perk': 8444, 'var1': 1758, 'var2': 0, 'var3': 0},\n",
       "     {'perk': 8451, 'var1': 269, 'var2': 0, 'var3': 0}],\n",
       "    'style': 8400},\n",
       "   {'description': 'subStyle',\n",
       "    'selections': [{'perk': 8345, 'var1': 3, 'var2': 0, 'var3': 0},\n",
       "     {'perk': 8347, 'var1': 0, 'var2': 0, 'var3': 0}],\n",
       "    'style': 8300}]},\n",
       " 'physicalDamageDealt': 55571,\n",
       " 'physicalDamageDealtToChampions': 6739,\n",
       " 'physicalDamageTaken': 23130,\n",
       " 'profileIcon': 29,\n",
       " 'quadraKills': 0,\n",
       " 'riotIdName': '',\n",
       " 'riotIdTagline': '',\n",
       " 'role': 'DUO',\n",
       " 'sightWardsBoughtInGame': 0,\n",
       " 'spell1Casts': 39,\n",
       " 'spell1Id': 4,\n",
       " 'spell2Casts': 69,\n",
       " 'spell2Id': 12,\n",
       " 'spell3Casts': 85,\n",
       " 'spell4Casts': 10,\n",
       " 'summoner1Casts': 4,\n",
       " 'summoner2Casts': 5,\n",
       " 'summonerId': 2886906285852384,\n",
       " 'summonerLevel': 30,\n",
       " 'summonerName': 'RNS Edger',\n",
       " 'teamEarlySurrendered': False,\n",
       " 'teamId': 100,\n",
       " 'teamPosition': 'AFK',\n",
       " 'timeCCingOthers': 29,\n",
       " 'timePlayed': 2230,\n",
       " 'totalDamageDealt': 143664,\n",
       " 'totalDamageDealtToChampions': 20866,\n",
       " 'totalDamageShieldedOnTeammates': 0,\n",
       " 'totalDamageTaken': 32723,\n",
       " 'totalHeal': 4690,\n",
       " 'totalHealsOnTeammates': 0,\n",
       " 'totalMinionsKilled': 228,\n",
       " 'totalTimeCCDealt': 1321,\n",
       " 'totalTimeSpentDead': 209,\n",
       " 'totalUnitsHealed': 1,\n",
       " 'tripleKills': 0,\n",
       " 'trueDamageDealt': 2237,\n",
       " 'trueDamageDealtToChampions': 2237,\n",
       " 'trueDamageTaken': 5361,\n",
       " 'turretKills': 1,\n",
       " 'turretTakedowns': 1,\n",
       " 'turretsLost': 7,\n",
       " 'unrealKills': 0,\n",
       " 'visionScore': 37,\n",
       " 'visionWardsBoughtInGame': 4,\n",
       " 'wardsKilled': 4,\n",
       " 'wardsPlaced': 17,\n",
       " 'win': True}"
      ]
     },
     "execution_count": 133,
     "metadata": {},
     "output_type": "execute_result"
    }
   ],
   "source": [
    "statusA1['participants'][0]"
   ]
  },
  {
   "cell_type": "code",
   "execution_count": 134,
   "id": "397dc821",
   "metadata": {},
   "outputs": [
    {
     "data": {
      "text/plain": [
       "'Malphite'"
      ]
     },
     "execution_count": 134,
     "metadata": {},
     "output_type": "execute_result"
    }
   ],
   "source": [
    "statusA1['participants'][0]['championName']"
   ]
  },
  {
   "cell_type": "code",
   "execution_count": 135,
   "id": "911b4a84",
   "metadata": {},
   "outputs": [
    {
     "data": {
      "text/plain": [
       "1"
      ]
     },
     "execution_count": 135,
     "metadata": {},
     "output_type": "execute_result"
    }
   ],
   "source": [
    "statusA1['participants'][0]['participantId']"
   ]
  },
  {
   "cell_type": "code",
   "execution_count": 136,
   "id": "0a957937",
   "metadata": {},
   "outputs": [
    {
     "data": {
      "text/plain": [
       "'MIDDLE'"
      ]
     },
     "execution_count": 136,
     "metadata": {},
     "output_type": "execute_result"
    }
   ],
   "source": [
    "statusA1['participants'][0]['lane']"
   ]
  },
  {
   "cell_type": "markdown",
   "id": "a69e77b2",
   "metadata": {},
   "source": [
    "## ScoredPlayer"
   ]
  },
  {
   "cell_type": "code",
   "execution_count": 137,
   "id": "2e650236",
   "metadata": {},
   "outputs": [],
   "source": [
    "def jsonToDataFrame(response:'collections.OrderedDict'):\n",
    "    jsonData = json.dumps(response['cargoquery'])\n",
    "    ParseData = jsonData.replace('''{\"title\\\":''','').replace(\"}}\",'}')\n",
    "    return pd.read_json(ParseData, orient = 'values' )"
   ]
  },
  {
   "cell_type": "markdown",
   "id": "414e4f4e",
   "metadata": {},
   "source": [
    "## game 102"
   ]
  },
  {
   "cell_type": "code",
   "execution_count": 154,
   "id": "ef415017",
   "metadata": {},
   "outputs": [],
   "source": [
    "response = site.api('cargoquery',\n",
    "\ttables = \"ScoreboardPlayers=SP , ScoreboardTeams=ST\",\n",
    "    join_on = \"SP.GameId=ST.GameId, SP.Team=ST.Team\",\n",
    "\tfields = \"SP.Team,ST.GameId,ST.Side,ST.IsWinner,ST.Number,SP.Role,SP.Role_Number ,SP.Champion, SP.IngameRole,SP.Time,SP.GameRoleId\",\n",
    "    where = \"ST.GameId = 'CBLOL/2022 Season/Split 1_Week 7_9_1' AND  SP.GameId='CBLOL/2022 Season/Split 1_Week 7_9_1' \" ,\n",
    "    limit = 'max'\n",
    ")"
   ]
  },
  {
   "cell_type": "code",
   "execution_count": 155,
   "id": "75efaa0f",
   "metadata": {},
   "outputs": [],
   "source": [
    "a1 = jsonToDataFrame(response)"
   ]
  },
  {
   "cell_type": "code",
   "execution_count": 140,
   "id": "8ad93b54",
   "metadata": {},
   "outputs": [
    {
     "data": {
      "text/html": [
       "<div>\n",
       "<style scoped>\n",
       "    .dataframe tbody tr th:only-of-type {\n",
       "        vertical-align: middle;\n",
       "    }\n",
       "\n",
       "    .dataframe tbody tr th {\n",
       "        vertical-align: top;\n",
       "    }\n",
       "\n",
       "    .dataframe thead th {\n",
       "        text-align: right;\n",
       "    }\n",
       "</style>\n",
       "<table border=\"1\" class=\"dataframe\">\n",
       "  <thead>\n",
       "    <tr style=\"text-align: right;\">\n",
       "      <th></th>\n",
       "      <th>Team</th>\n",
       "      <th>GameId</th>\n",
       "      <th>Side</th>\n",
       "      <th>IsWinner</th>\n",
       "      <th>Number</th>\n",
       "      <th>Role</th>\n",
       "      <th>Role Number</th>\n",
       "      <th>Champion</th>\n",
       "      <th>IngameRole</th>\n",
       "      <th>Time</th>\n",
       "      <th>GameRoleId</th>\n",
       "      <th>Time__precision</th>\n",
       "    </tr>\n",
       "  </thead>\n",
       "  <tbody>\n",
       "    <tr>\n",
       "      <th>0</th>\n",
       "      <td>FURIA Esports</td>\n",
       "      <td>CBLOL/2022 Season/Split 1_Week 7_9_1</td>\n",
       "      <td>Red</td>\n",
       "      <td>0</td>\n",
       "      <td>2</td>\n",
       "      <td>Top</td>\n",
       "      <td>1</td>\n",
       "      <td>Graves</td>\n",
       "      <td>Top</td>\n",
       "      <td></td>\n",
       "      <td>CBLOL/2022 Season/Split 1/Scoreboards/Week 7_9...</td>\n",
       "      <td></td>\n",
       "    </tr>\n",
       "    <tr>\n",
       "      <th>1</th>\n",
       "      <td>FURIA Esports</td>\n",
       "      <td>CBLOL/2022 Season/Split 1_Week 7_9_1</td>\n",
       "      <td>Red</td>\n",
       "      <td>0</td>\n",
       "      <td>2</td>\n",
       "      <td>Jungle</td>\n",
       "      <td>2</td>\n",
       "      <td>Lee Sin</td>\n",
       "      <td>Jungle</td>\n",
       "      <td></td>\n",
       "      <td>CBLOL/2022 Season/Split 1/Scoreboards/Week 7_9...</td>\n",
       "      <td></td>\n",
       "    </tr>\n",
       "    <tr>\n",
       "      <th>2</th>\n",
       "      <td>FURIA Esports</td>\n",
       "      <td>CBLOL/2022 Season/Split 1_Week 7_9_1</td>\n",
       "      <td>Red</td>\n",
       "      <td>0</td>\n",
       "      <td>2</td>\n",
       "      <td>Mid</td>\n",
       "      <td>3</td>\n",
       "      <td>Ahri</td>\n",
       "      <td>Mid</td>\n",
       "      <td></td>\n",
       "      <td>CBLOL/2022 Season/Split 1/Scoreboards/Week 7_9...</td>\n",
       "      <td></td>\n",
       "    </tr>\n",
       "    <tr>\n",
       "      <th>3</th>\n",
       "      <td>FURIA Esports</td>\n",
       "      <td>CBLOL/2022 Season/Split 1_Week 7_9_1</td>\n",
       "      <td>Red</td>\n",
       "      <td>0</td>\n",
       "      <td>2</td>\n",
       "      <td>Bot</td>\n",
       "      <td>4</td>\n",
       "      <td>Jinx</td>\n",
       "      <td>Bot</td>\n",
       "      <td></td>\n",
       "      <td>CBLOL/2022 Season/Split 1/Scoreboards/Week 7_9...</td>\n",
       "      <td></td>\n",
       "    </tr>\n",
       "    <tr>\n",
       "      <th>4</th>\n",
       "      <td>FURIA Esports</td>\n",
       "      <td>CBLOL/2022 Season/Split 1_Week 7_9_1</td>\n",
       "      <td>Red</td>\n",
       "      <td>0</td>\n",
       "      <td>2</td>\n",
       "      <td>Support</td>\n",
       "      <td>5</td>\n",
       "      <td>Nautilus</td>\n",
       "      <td>Support</td>\n",
       "      <td></td>\n",
       "      <td>CBLOL/2022 Season/Split 1/Scoreboards/Week 7_9...</td>\n",
       "      <td></td>\n",
       "    </tr>\n",
       "    <tr>\n",
       "      <th>5</th>\n",
       "      <td>Rensga Esports</td>\n",
       "      <td>CBLOL/2022 Season/Split 1_Week 7_9_1</td>\n",
       "      <td>Blue</td>\n",
       "      <td>1</td>\n",
       "      <td>1</td>\n",
       "      <td>Top</td>\n",
       "      <td>1</td>\n",
       "      <td>Malphite</td>\n",
       "      <td>Top</td>\n",
       "      <td></td>\n",
       "      <td>CBLOL/2022 Season/Split 1/Scoreboards/Week 7_9...</td>\n",
       "      <td></td>\n",
       "    </tr>\n",
       "    <tr>\n",
       "      <th>6</th>\n",
       "      <td>Rensga Esports</td>\n",
       "      <td>CBLOL/2022 Season/Split 1_Week 7_9_1</td>\n",
       "      <td>Blue</td>\n",
       "      <td>1</td>\n",
       "      <td>1</td>\n",
       "      <td>Jungle</td>\n",
       "      <td>2</td>\n",
       "      <td>Volibear</td>\n",
       "      <td>Jungle</td>\n",
       "      <td></td>\n",
       "      <td>CBLOL/2022 Season/Split 1/Scoreboards/Week 7_9...</td>\n",
       "      <td></td>\n",
       "    </tr>\n",
       "    <tr>\n",
       "      <th>7</th>\n",
       "      <td>Rensga Esports</td>\n",
       "      <td>CBLOL/2022 Season/Split 1_Week 7_9_1</td>\n",
       "      <td>Blue</td>\n",
       "      <td>1</td>\n",
       "      <td>1</td>\n",
       "      <td>Mid</td>\n",
       "      <td>3</td>\n",
       "      <td>LeBlanc</td>\n",
       "      <td>Mid</td>\n",
       "      <td></td>\n",
       "      <td>CBLOL/2022 Season/Split 1/Scoreboards/Week 7_9...</td>\n",
       "      <td></td>\n",
       "    </tr>\n",
       "    <tr>\n",
       "      <th>8</th>\n",
       "      <td>Rensga Esports</td>\n",
       "      <td>CBLOL/2022 Season/Split 1_Week 7_9_1</td>\n",
       "      <td>Blue</td>\n",
       "      <td>1</td>\n",
       "      <td>1</td>\n",
       "      <td>Bot</td>\n",
       "      <td>4</td>\n",
       "      <td>Caitlyn</td>\n",
       "      <td>Bot</td>\n",
       "      <td></td>\n",
       "      <td>CBLOL/2022 Season/Split 1/Scoreboards/Week 7_9...</td>\n",
       "      <td></td>\n",
       "    </tr>\n",
       "    <tr>\n",
       "      <th>9</th>\n",
       "      <td>Rensga Esports</td>\n",
       "      <td>CBLOL/2022 Season/Split 1_Week 7_9_1</td>\n",
       "      <td>Blue</td>\n",
       "      <td>1</td>\n",
       "      <td>1</td>\n",
       "      <td>Support</td>\n",
       "      <td>5</td>\n",
       "      <td>Renata Glasc</td>\n",
       "      <td>Support</td>\n",
       "      <td></td>\n",
       "      <td>CBLOL/2022 Season/Split 1/Scoreboards/Week 7_9...</td>\n",
       "      <td></td>\n",
       "    </tr>\n",
       "  </tbody>\n",
       "</table>\n",
       "</div>"
      ],
      "text/plain": [
       "             Team                                GameId  Side  IsWinner  \\\n",
       "0   FURIA Esports  CBLOL/2022 Season/Split 1_Week 7_9_1   Red         0   \n",
       "1   FURIA Esports  CBLOL/2022 Season/Split 1_Week 7_9_1   Red         0   \n",
       "2   FURIA Esports  CBLOL/2022 Season/Split 1_Week 7_9_1   Red         0   \n",
       "3   FURIA Esports  CBLOL/2022 Season/Split 1_Week 7_9_1   Red         0   \n",
       "4   FURIA Esports  CBLOL/2022 Season/Split 1_Week 7_9_1   Red         0   \n",
       "5  Rensga Esports  CBLOL/2022 Season/Split 1_Week 7_9_1  Blue         1   \n",
       "6  Rensga Esports  CBLOL/2022 Season/Split 1_Week 7_9_1  Blue         1   \n",
       "7  Rensga Esports  CBLOL/2022 Season/Split 1_Week 7_9_1  Blue         1   \n",
       "8  Rensga Esports  CBLOL/2022 Season/Split 1_Week 7_9_1  Blue         1   \n",
       "9  Rensga Esports  CBLOL/2022 Season/Split 1_Week 7_9_1  Blue         1   \n",
       "\n",
       "   Number     Role  Role Number      Champion IngameRole Time  \\\n",
       "0       2      Top            1        Graves        Top        \n",
       "1       2   Jungle            2       Lee Sin     Jungle        \n",
       "2       2      Mid            3          Ahri        Mid        \n",
       "3       2      Bot            4          Jinx        Bot        \n",
       "4       2  Support            5      Nautilus    Support        \n",
       "5       1      Top            1      Malphite        Top        \n",
       "6       1   Jungle            2      Volibear     Jungle        \n",
       "7       1      Mid            3       LeBlanc        Mid        \n",
       "8       1      Bot            4       Caitlyn        Bot        \n",
       "9       1  Support            5  Renata Glasc    Support        \n",
       "\n",
       "                                          GameRoleId Time__precision  \n",
       "0  CBLOL/2022 Season/Split 1/Scoreboards/Week 7_9...                  \n",
       "1  CBLOL/2022 Season/Split 1/Scoreboards/Week 7_9...                  \n",
       "2  CBLOL/2022 Season/Split 1/Scoreboards/Week 7_9...                  \n",
       "3  CBLOL/2022 Season/Split 1/Scoreboards/Week 7_9...                  \n",
       "4  CBLOL/2022 Season/Split 1/Scoreboards/Week 7_9...                  \n",
       "5  CBLOL/2022 Season/Split 1/Scoreboards/Week 7_9...                  \n",
       "6  CBLOL/2022 Season/Split 1/Scoreboards/Week 7_9...                  \n",
       "7  CBLOL/2022 Season/Split 1/Scoreboards/Week 7_9...                  \n",
       "8  CBLOL/2022 Season/Split 1/Scoreboards/Week 7_9...                  \n",
       "9  CBLOL/2022 Season/Split 1/Scoreboards/Week 7_9...                  "
      ]
     },
     "execution_count": 140,
     "metadata": {},
     "output_type": "execute_result"
    }
   ],
   "source": [
    "a1"
   ]
  },
  {
   "cell_type": "code",
   "execution_count": 141,
   "id": "22843978",
   "metadata": {},
   "outputs": [
    {
     "data": {
      "text/plain": [
       "'CBLOL/2022 Season/Split 1/Scoreboards/Week 7_9_1_1_1'"
      ]
     },
     "execution_count": 141,
     "metadata": {},
     "output_type": "execute_result"
    }
   ],
   "source": [
    "a1.GameRoleId[5]"
   ]
  },
  {
   "cell_type": "code",
   "execution_count": 142,
   "id": "13153ac8",
   "metadata": {},
   "outputs": [
    {
     "name": "stdout",
     "output_type": "stream",
     "text": [
      "Malphite 1 MIDDLE 100\n",
      "Malphite 1 CBLOL/2022 Season/Split 1/Scoreboards/Week 7_9_1_1_1\n"
     ]
    }
   ],
   "source": [
    "print(\n",
    "    statusA1['participants'][0]['championName'],\n",
    "    statusA1['participants'][0]['participantId'],\n",
    "    statusA1['participants'][0]['lane'],\n",
    "    statusA1['participants'][0]['teamId'],\n",
    ")\n",
    "print( \n",
    "    a1.Champion[5],\n",
    "    a1[\"Role Number\"][5],\n",
    "    a1.GameRoleId[5]\n",
    ")"
   ]
  },
  {
   "cell_type": "code",
   "execution_count": 143,
   "id": "1768dc35",
   "metadata": {},
   "outputs": [
    {
     "name": "stdout",
     "output_type": "stream",
     "text": [
      "Malphite 1 CBLOL/2022 Season/Split 1/Scoreboards/Week 7_9_1_1_1 1\n",
      "Malphite 1 MIDDLE 100\n",
      "0 ---------------\n",
      "Volibear 2 CBLOL/2022 Season/Split 1/Scoreboards/Week 7_9_1_1_2 1\n",
      "Volibear 2 MIDDLE 100\n",
      "1 ---------------\n",
      "LeBlanc 3 CBLOL/2022 Season/Split 1/Scoreboards/Week 7_9_1_1_3 1\n",
      "Leblanc 3 BOTTOM 100\n",
      "2 ---------------\n",
      "Caitlyn 4 CBLOL/2022 Season/Split 1/Scoreboards/Week 7_9_1_1_4 1\n",
      "Caitlyn 4 BOTTOM 100\n",
      "3 ---------------\n",
      "Renata Glasc 5 CBLOL/2022 Season/Split 1/Scoreboards/Week 7_9_1_1_5 1\n",
      "Renata 5 BOTTOM 100\n",
      "4 ---------------\n",
      "Graves 1 CBLOL/2022 Season/Split 1/Scoreboards/Week 7_9_1_2_1 2\n",
      "Graves 6 JUNGLE 200\n",
      "5 ---------------\n",
      "Lee Sin 2 CBLOL/2022 Season/Split 1/Scoreboards/Week 7_9_1_2_2 2\n",
      "LeeSin 7 JUNGLE 200\n",
      "6 ---------------\n",
      "Ahri 3 CBLOL/2022 Season/Split 1/Scoreboards/Week 7_9_1_2_3 2\n",
      "Ahri 8 JUNGLE 200\n",
      "7 ---------------\n",
      "Jinx 4 CBLOL/2022 Season/Split 1/Scoreboards/Week 7_9_1_2_4 2\n",
      "Jinx 9 BOTTOM 200\n",
      "8 ---------------\n",
      "Nautilus 5 CBLOL/2022 Season/Split 1/Scoreboards/Week 7_9_1_2_5 2\n",
      "Nautilus 10 JUNGLE 200\n",
      "9 ---------------\n"
     ]
    }
   ],
   "source": [
    "for index, row in a1.sort_values(['Number','Role Number']).reset_index().iterrows():\n",
    "    print( \n",
    "        row.Champion,\n",
    "        row[\"Role Number\"],\n",
    "        row.GameRoleId,\n",
    "        row.Number\n",
    "    )\n",
    "    print(\n",
    "        statusA1['participants'][index]['championName'],\n",
    "        statusA1['participants'][index]['participantId'],\n",
    "        statusA1['participants'][index]['lane'],\n",
    "        statusA1['participants'][index]['teamId'],\n",
    "    )\n",
    "    print(index,'---------------')"
   ]
  },
  {
   "cell_type": "markdown",
   "id": "4328c57b",
   "metadata": {},
   "source": [
    "## outros games"
   ]
  },
  {
   "cell_type": "code",
   "execution_count": 173,
   "id": "46eede7d",
   "metadata": {},
   "outputs": [],
   "source": [
    "def jsonStatusToDict(statuspage,site)->dict:\n",
    "    dataJJSON = site.pages[statuspage].text()\n",
    "    return json.loads(dataJJSON)"
   ]
  },
  {
   "cell_type": "code",
   "execution_count": 147,
   "id": "adc31c95",
   "metadata": {},
   "outputs": [
    {
     "name": "stdout",
     "output_type": "stream",
     "text": [
      "MatchId\n",
      "GameId\n",
      "RiotPlatformGameId\n",
      "RiotGameId\n",
      "StatsPage\n",
      "TimelinePage\n",
      "Vod\n"
     ]
    }
   ],
   "source": [
    "for idg in df_cblol20022.loc[102:110,:]:\n",
    "    print(idg)"
   ]
  },
  {
   "cell_type": "code",
   "execution_count": 175,
   "id": "e3234498",
   "metadata": {},
   "outputs": [
    {
     "name": "stdout",
     "output_type": "stream",
     "text": [
      "Malphite 1 CBLOL/2022 Season/Split 1/Scoreboards/Week 7_9_1_1_1 1\n",
      "Malphite 1 MIDDLE 100\n",
      "Volibear 2 CBLOL/2022 Season/Split 1/Scoreboards/Week 7_9_1_1_2 1\n",
      "Volibear 2 MIDDLE 100\n",
      "LeBlanc 3 CBLOL/2022 Season/Split 1/Scoreboards/Week 7_9_1_1_3 1\n",
      "Leblanc 3 BOTTOM 100\n",
      "Caitlyn 4 CBLOL/2022 Season/Split 1/Scoreboards/Week 7_9_1_1_4 1\n",
      "Caitlyn 4 BOTTOM 100\n",
      "Renata Glasc 5 CBLOL/2022 Season/Split 1/Scoreboards/Week 7_9_1_1_5 1\n",
      "Renata 5 BOTTOM 100\n",
      "Graves 1 CBLOL/2022 Season/Split 1/Scoreboards/Week 7_9_1_2_1 2\n",
      "Graves 6 JUNGLE 200\n",
      "Lee Sin 2 CBLOL/2022 Season/Split 1/Scoreboards/Week 7_9_1_2_2 2\n",
      "LeeSin 7 JUNGLE 200\n",
      "Ahri 3 CBLOL/2022 Season/Split 1/Scoreboards/Week 7_9_1_2_3 2\n",
      "Ahri 8 JUNGLE 200\n",
      "Jinx 4 CBLOL/2022 Season/Split 1/Scoreboards/Week 7_9_1_2_4 2\n",
      "Jinx 9 BOTTOM 200\n",
      "Nautilus 5 CBLOL/2022 Season/Split 1/Scoreboards/Week 7_9_1_2_5 2\n",
      "Nautilus 10 JUNGLE 200\n",
      "9 ---------------\n",
      "Rumble 1 CBLOL/2022 Season/Split 1/Scoreboards/Week 8_1_1_1_1 1\n",
      "Rumble 1 MIDDLE 100\n",
      "Lee Sin 2 CBLOL/2022 Season/Split 1/Scoreboards/Week 8_1_1_1_2 1\n",
      "LeeSin 2 MIDDLE 100\n",
      "Tryndamere 3 CBLOL/2022 Season/Split 1/Scoreboards/Week 8_1_1_1_3 1\n",
      "Tryndamere 3 BOTTOM 100\n",
      "Zeri 4 CBLOL/2022 Season/Split 1/Scoreboards/Week 8_1_1_1_4 1\n",
      "Zeri 4 BOTTOM 100\n",
      "Nautilus 5 CBLOL/2022 Season/Split 1/Scoreboards/Week 8_1_1_1_5 1\n",
      "Nautilus 5 BOTTOM 100\n",
      "Gragas 1 CBLOL/2022 Season/Split 1/Scoreboards/Week 8_1_1_2_1 2\n",
      "Gragas 6 JUNGLE 200\n",
      "Viego 2 CBLOL/2022 Season/Split 1/Scoreboards/Week 8_1_1_2_2 2\n",
      "Viego 7 JUNGLE 200\n",
      "LeBlanc 3 CBLOL/2022 Season/Split 1/Scoreboards/Week 8_1_1_2_3 2\n",
      "Leblanc 8 JUNGLE 200\n",
      "Jinx 4 CBLOL/2022 Season/Split 1/Scoreboards/Week 8_1_1_2_4 2\n",
      "Jinx 9 BOTTOM 200\n",
      "Leona 5 CBLOL/2022 Season/Split 1/Scoreboards/Week 8_1_1_2_5 2\n",
      "Leona 10 JUNGLE 200\n",
      "9 ---------------\n",
      "Graves 1 CBLOL/2022 Season/Split 1/Scoreboards/Week 8_10_1_1_1 1\n",
      "Graves 1 MIDDLE 100\n",
      "Viego 2 CBLOL/2022 Season/Split 1/Scoreboards/Week 8_10_1_1_2 1\n",
      "Viego 2 MIDDLE 100\n",
      "Zilean 3 CBLOL/2022 Season/Split 1/Scoreboards/Week 8_10_1_1_3 1\n",
      "Zilean 3 BOTTOM 100\n",
      "Jinx 4 CBLOL/2022 Season/Split 1/Scoreboards/Week 8_10_1_1_4 1\n",
      "Jinx 4 BOTTOM 100\n",
      "Alistar 5 CBLOL/2022 Season/Split 1/Scoreboards/Week 8_10_1_1_5 1\n",
      "Alistar 5 BOTTOM 100\n",
      "Jayce 1 CBLOL/2022 Season/Split 1/Scoreboards/Week 8_10_1_2_1 2\n",
      "Jayce 6 JUNGLE 200\n",
      "Volibear 2 CBLOL/2022 Season/Split 1/Scoreboards/Week 8_10_1_2_2 2\n",
      "Volibear 7 JUNGLE 200\n",
      "Zoe 3 CBLOL/2022 Season/Split 1/Scoreboards/Week 8_10_1_2_3 2\n",
      "Zoe 8 JUNGLE 200\n",
      "Aphelios 4 CBLOL/2022 Season/Split 1/Scoreboards/Week 8_10_1_2_4 2\n",
      "Aphelios 9 BOTTOM 200\n",
      "Rakan 5 CBLOL/2022 Season/Split 1/Scoreboards/Week 8_10_1_2_5 2\n",
      "Rakan 10 JUNGLE 200\n",
      "9 ---------------\n",
      "Tryndamere 1 CBLOL/2022 Season/Split 1/Scoreboards/Week 8_2_1_1_1 1\n",
      "Tryndamere 1 MIDDLE 100\n",
      "Diana 2 CBLOL/2022 Season/Split 1/Scoreboards/Week 8_2_1_1_2 1\n",
      "Diana 2 MIDDLE 100\n",
      "Syndra 3 CBLOL/2022 Season/Split 1/Scoreboards/Week 8_2_1_1_3 1\n",
      "Syndra 3 BOTTOM 100\n",
      "Zeri 4 CBLOL/2022 Season/Split 1/Scoreboards/Week 8_2_1_1_4 1\n",
      "Zeri 4 BOTTOM 100\n",
      "Nautilus 5 CBLOL/2022 Season/Split 1/Scoreboards/Week 8_2_1_1_5 1\n",
      "Nautilus 5 BOTTOM 100\n",
      "Sett 1 CBLOL/2022 Season/Split 1/Scoreboards/Week 8_2_1_2_1 2\n",
      "Sett 6 JUNGLE 200\n",
      "Volibear 2 CBLOL/2022 Season/Split 1/Scoreboards/Week 8_2_1_2_2 2\n",
      "Volibear 7 JUNGLE 200\n",
      "Ahri 3 CBLOL/2022 Season/Split 1/Scoreboards/Week 8_2_1_2_3 2\n",
      "Ahri 8 JUNGLE 200\n",
      "Jinx 4 CBLOL/2022 Season/Split 1/Scoreboards/Week 8_2_1_2_4 2\n",
      "Jinx 9 BOTTOM 200\n",
      "Thresh 5 CBLOL/2022 Season/Split 1/Scoreboards/Week 8_2_1_2_5 2\n",
      "Thresh 10 BOTTOM 200\n",
      "9 ---------------\n",
      "Shyvana 1 CBLOL/2022 Season/Split 1/Scoreboards/Week 8_3_1_1_1 1\n",
      "Shyvana 1 MIDDLE 100\n",
      "Graves 2 CBLOL/2022 Season/Split 1/Scoreboards/Week 8_3_1_1_2 1\n",
      "Graves 2 MIDDLE 100\n",
      "Zoe 3 CBLOL/2022 Season/Split 1/Scoreboards/Week 8_3_1_1_3 1\n",
      "Zoe 3 BOTTOM 100\n",
      "Zeri 4 CBLOL/2022 Season/Split 1/Scoreboards/Week 8_3_1_1_4 1\n",
      "Zeri 4 BOTTOM 100\n",
      "Leona 5 CBLOL/2022 Season/Split 1/Scoreboards/Week 8_3_1_1_5 1\n",
      "Leona 5 BOTTOM 100\n",
      "Kennen 1 CBLOL/2022 Season/Split 1/Scoreboards/Week 8_3_1_2_1 2\n",
      "Kennen 6 JUNGLE 200\n",
      "Trundle 2 CBLOL/2022 Season/Split 1/Scoreboards/Week 8_3_1_2_2 2\n",
      "Trundle 7 JUNGLE 200\n",
      "Syndra 3 CBLOL/2022 Season/Split 1/Scoreboards/Week 8_3_1_2_3 2\n",
      "Syndra 8 JUNGLE 200\n",
      "Jinx 4 CBLOL/2022 Season/Split 1/Scoreboards/Week 8_3_1_2_4 2\n",
      "Jinx 9 BOTTOM 200\n",
      "Nautilus 5 CBLOL/2022 Season/Split 1/Scoreboards/Week 8_3_1_2_5 2\n",
      "Nautilus 10 JUNGLE 200\n",
      "9 ---------------\n",
      "Gwen 1 CBLOL/2022 Season/Split 1/Scoreboards/Week 8_4_1_1_1 1\n",
      "Gwen 1 MIDDLE 100\n",
      "Hecarim 2 CBLOL/2022 Season/Split 1/Scoreboards/Week 8_4_1_1_2 1\n",
      "Hecarim 2 TOP 100\n",
      "Viktor 3 CBLOL/2022 Season/Split 1/Scoreboards/Week 8_4_1_1_3 1\n",
      "Viktor 3 BOTTOM 100\n",
      "Ezreal 4 CBLOL/2022 Season/Split 1/Scoreboards/Week 8_4_1_1_4 1\n",
      "Ezreal 4 BOTTOM 100\n",
      "Braum 5 CBLOL/2022 Season/Split 1/Scoreboards/Week 8_4_1_1_5 1\n",
      "Braum 5 BOTTOM 100\n",
      "Gnar 1 CBLOL/2022 Season/Split 1/Scoreboards/Week 8_4_1_2_1 2\n",
      "Gnar 6 JUNGLE 200\n",
      "Diana 2 CBLOL/2022 Season/Split 1/Scoreboards/Week 8_4_1_2_2 2\n",
      "Diana 7 JUNGLE 200\n",
      "Yasuo 3 CBLOL/2022 Season/Split 1/Scoreboards/Week 8_4_1_2_3 2\n",
      "Yasuo 8 JUNGLE 200\n",
      "Aphelios 4 CBLOL/2022 Season/Split 1/Scoreboards/Week 8_4_1_2_4 2\n",
      "Aphelios 9 BOTTOM 200\n",
      "Nautilus 5 CBLOL/2022 Season/Split 1/Scoreboards/Week 8_4_1_2_5 2\n",
      "Nautilus 10 BOTTOM 200\n",
      "9 ---------------\n",
      "Yorick 1 CBLOL/2022 Season/Split 1/Scoreboards/Week 8_5_1_1_1 1\n",
      "Yorick 1 MIDDLE 100\n",
      "Diana 2 CBLOL/2022 Season/Split 1/Scoreboards/Week 8_5_1_1_2 1\n",
      "Diana 2 MIDDLE 100\n",
      "Karma 3 CBLOL/2022 Season/Split 1/Scoreboards/Week 8_5_1_1_3 1\n",
      "Karma 3 BOTTOM 100\n",
      "Zeri 4 CBLOL/2022 Season/Split 1/Scoreboards/Week 8_5_1_1_4 1\n",
      "Zeri 4 BOTTOM 100\n",
      "Leona 5 CBLOL/2022 Season/Split 1/Scoreboards/Week 8_5_1_1_5 1\n",
      "Leona 5 BOTTOM 100\n",
      "Jayce 1 CBLOL/2022 Season/Split 1/Scoreboards/Week 8_5_1_2_1 2\n",
      "Jayce 6 JUNGLE 200\n",
      "Hecarim 2 CBLOL/2022 Season/Split 1/Scoreboards/Week 8_5_1_2_2 2\n",
      "Hecarim 7 JUNGLE 200\n",
      "Vex 3 CBLOL/2022 Season/Split 1/Scoreboards/Week 8_5_1_2_3 2\n",
      "Vex 8 JUNGLE 200\n",
      "Jinx 4 CBLOL/2022 Season/Split 1/Scoreboards/Week 8_5_1_2_4 2\n",
      "Jinx 9 BOTTOM 200\n",
      "Alistar 5 CBLOL/2022 Season/Split 1/Scoreboards/Week 8_5_1_2_5 2\n",
      "Alistar 10 BOTTOM 200\n",
      "9 ---------------\n",
      "Kennen 1 CBLOL/2022 Season/Split 1/Scoreboards/Week 8_6_1_1_1 1\n",
      "Kennen 1 MIDDLE 100\n",
      "Nocturne 2 CBLOL/2022 Season/Split 1/Scoreboards/Week 8_6_1_1_2 1\n",
      "Nocturne 2 MIDDLE 100\n",
      "Galio 3 CBLOL/2022 Season/Split 1/Scoreboards/Week 8_6_1_1_3 1\n",
      "Galio 3 BOTTOM 100\n",
      "Jinx 4 CBLOL/2022 Season/Split 1/Scoreboards/Week 8_6_1_1_4 1\n",
      "Jinx 4 BOTTOM 100\n",
      "Leona 5 CBLOL/2022 Season/Split 1/Scoreboards/Week 8_6_1_1_5 1\n",
      "Leona 5 BOTTOM 100\n",
      "Tryndamere 1 CBLOL/2022 Season/Split 1/Scoreboards/Week 8_6_1_2_1 2\n",
      "Tryndamere 6 JUNGLE 200\n",
      "Xin Zhao 2 CBLOL/2022 Season/Split 1/Scoreboards/Week 8_6_1_2_2 2\n",
      "XinZhao 7 JUNGLE 200\n",
      "Viktor 3 CBLOL/2022 Season/Split 1/Scoreboards/Week 8_6_1_2_3 2\n",
      "Viktor 8 JUNGLE 200\n",
      "Aphelios 4 CBLOL/2022 Season/Split 1/Scoreboards/Week 8_6_1_2_4 2\n",
      "Aphelios 9 BOTTOM 200\n",
      "Tahm Kench 5 CBLOL/2022 Season/Split 1/Scoreboards/Week 8_6_1_2_5 2\n",
      "TahmKench 10 BOTTOM 200\n",
      "9 ---------------\n"
     ]
    }
   ],
   "source": [
    "for i in df_cblol20022.GameId[102:110].index:\n",
    "    response = site.api('cargoquery',\n",
    "        tables = \"ScoreboardPlayers=SP , ScoreboardTeams=ST\",\n",
    "        join_on = \"SP.GameId=ST.GameId, SP.Team=ST.Team\",\n",
    "        fields = \"SP.Team,ST.GameId,ST.Side,ST.IsWinner,ST.Number,SP.Role,SP.Role_Number ,SP.Champion, SP.IngameRole,SP.Time,SP.GameRoleId\",\n",
    "        where = f\"ST.GameId = '{df_cblol20022.GameId[i]}' AND  SP.GameId='{df_cblol20022.GameId[i]}' \" ,\n",
    "        limit = 'max'\n",
    "    )\n",
    "    df_SP = jsonToDataFrame(response)    \n",
    "    statusGame = jsonStatusToDict(df_cblol20022.StatsPage[i],site)\n",
    "    for index, row in df_SP.sort_values(['Number','Role Number']).reset_index().iterrows():\n",
    "        print( \n",
    "            row.Champion,\n",
    "            row[\"Role Number\"],\n",
    "            row.GameRoleId,\n",
    "            row.Number\n",
    "        )\n",
    "        print(\n",
    "            statusGame['participants'][index]['championName'],\n",
    "            statusGame['participants'][index]['participantId'],\n",
    "            statusGame['participants'][index]['lane'],\n",
    "            statusGame['participants'][index]['teamId'],\n",
    "        )\n",
    "    print(index,'---------------')"
   ]
  },
  {
   "cell_type": "code",
   "execution_count": null,
   "id": "fb8b784c-c45d-4acf-8625-022dde86b057",
   "metadata": {},
   "outputs": [],
   "source": []
  },
  {
   "cell_type": "code",
   "execution_count": 176,
   "id": "ac543bce-cc74-4050-882c-4e3cf3f9338d",
   "metadata": {},
   "outputs": [
    {
     "data": {
      "text/plain": [
       "dict_keys(['gameCreation', 'gameDuration', 'gameEndTimestamp', 'gameId', 'gameMode', 'gameName', 'gameStartTimestamp', 'gameType', 'gameVersion', 'mapId', 'participants', 'platformId', 'queueId', 'seasonId', 'teams', 'tournamentCode'])"
      ]
     },
     "execution_count": 176,
     "metadata": {},
     "output_type": "execute_result"
    }
   ],
   "source": [
    "statusGame.keys()"
   ]
  },
  {
   "cell_type": "code",
   "execution_count": 177,
   "id": "640ff430-fd73-4529-b2db-c35fc240a146",
   "metadata": {},
   "outputs": [
    {
     "data": {
      "text/plain": [
       "[{'bans': [{'championId': 221, 'pickTurn': 1},\n",
       "   {'championId': 51, 'pickTurn': 3},\n",
       "   {'championId': 120, 'pickTurn': 5},\n",
       "   {'championId': 12, 'pickTurn': 2},\n",
       "   {'championId': 13, 'pickTurn': 4}],\n",
       "  'objectives': {'baron': {'first': False, 'kills': 1},\n",
       "   'champion': {'first': False, 'kills': 31},\n",
       "   'dragon': {'first': True, 'kills': 3},\n",
       "   'inhibitor': {'first': False, 'kills': 0},\n",
       "   'riftHerald': {'first': True, 'kills': 2},\n",
       "   'tower': {'first': True, 'kills': 6}},\n",
       "  'teamId': 100,\n",
       "  'win': False},\n",
       " {'bans': [{'championId': 64, 'pickTurn': 2},\n",
       "   {'championId': 711, 'pickTurn': 4},\n",
       "   {'championId': 126, 'pickTurn': 6},\n",
       "   {'championId': 48, 'pickTurn': 1},\n",
       "   {'championId': 59, 'pickTurn': 3}],\n",
       "  'objectives': {'baron': {'first': True, 'kills': 1},\n",
       "   'champion': {'first': True, 'kills': 31},\n",
       "   'dragon': {'first': False, 'kills': 2},\n",
       "   'inhibitor': {'first': True, 'kills': 1},\n",
       "   'riftHerald': {'first': False, 'kills': 0},\n",
       "   'tower': {'first': False, 'kills': 8}},\n",
       "  'teamId': 200,\n",
       "  'win': True}]"
      ]
     },
     "execution_count": 177,
     "metadata": {},
     "output_type": "execute_result"
    }
   ],
   "source": [
    "statusGame.get('teams')"
   ]
  },
  {
   "cell_type": "code",
   "execution_count": null,
   "id": "86e7e6e4-6ded-4def-9f65-b7a654b58c91",
   "metadata": {},
   "outputs": [],
   "source": []
  }
 ],
 "metadata": {
  "kernelspec": {
   "display_name": "Python 3 (ipykernel)",
   "language": "python",
   "name": "python3"
  },
  "language_info": {
   "codemirror_mode": {
    "name": "ipython",
    "version": 3
   },
   "file_extension": ".py",
   "mimetype": "text/x-python",
   "name": "python",
   "nbconvert_exporter": "python",
   "pygments_lexer": "ipython3",
   "version": "3.9.7"
  },
  "toc": {
   "base_numbering": 1,
   "nav_menu": {},
   "number_sections": true,
   "sideBar": true,
   "skip_h1_title": false,
   "title_cell": "Table of Contents",
   "title_sidebar": "Contents",
   "toc_cell": false,
   "toc_position": {},
   "toc_section_display": true,
   "toc_window_display": false
  },
  "varInspector": {
   "cols": {
    "lenName": 16,
    "lenType": 16,
    "lenVar": 40
   },
   "kernels_config": {
    "python": {
     "delete_cmd_postfix": "",
     "delete_cmd_prefix": "del ",
     "library": "var_list.py",
     "varRefreshCmd": "print(var_dic_list())"
    },
    "r": {
     "delete_cmd_postfix": ") ",
     "delete_cmd_prefix": "rm(",
     "library": "var_list.r",
     "varRefreshCmd": "cat(var_dic_list()) "
    }
   },
   "types_to_exclude": [
    "module",
    "function",
    "builtin_function_or_method",
    "instance",
    "_Feature"
   ],
   "window_display": false
  }
 },
 "nbformat": 4,
 "nbformat_minor": 5
}
