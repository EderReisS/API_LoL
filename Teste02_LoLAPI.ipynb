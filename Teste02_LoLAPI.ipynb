{
 "cells": [
  {
   "cell_type": "code",
   "execution_count": 1,
   "id": "0a8e7130-440b-4353-bd67-e3b8891ff24f",
   "metadata": {},
   "outputs": [],
   "source": [
    "import mwclient\n",
    "import time\n",
    "import datetime as dt\n",
    "from datetime import date, timedelta\n",
    "import pandas as pd\n",
    "import json"
   ]
  },
  {
   "cell_type": "code",
   "execution_count": 2,
   "id": "8b564d94-618d-4f19-bc29-d5e5ab0d04c3",
   "metadata": {},
   "outputs": [],
   "source": [
    "site = mwclient.Site('lol.fandom.com', path='/')"
   ]
  },
  {
   "cell_type": "code",
   "execution_count": 35,
   "id": "1d916bb8-2597-4063-9e01-9c641b7fca56",
   "metadata": {},
   "outputs": [],
   "source": [
    "response = site.api('cargoquery',\n",
    "\tlimit = '10',\n",
    "\ttables = \"ScoreboardGames=SG\",\n",
    "\tfields = \"SG.DateTime_UTC\",\n",
    "\t#where = \"SG.DateTime_UTC >= '2019-08-01 00:00:00'\" #Results after Aug 1, 2019\n",
    "    #order_by = \"SG.DateTime_UTC\"\n",
    ")"
   ]
  },
  {
   "cell_type": "code",
   "execution_count": 36,
   "id": "01d14bbd-0414-4090-87ac-998ebf4a869e",
   "metadata": {},
   "outputs": [
    {
     "data": {
      "text/plain": [
       "<List object 'allcategories' for <Site object 'lol.fandom.com/'>>"
      ]
     },
     "execution_count": 36,
     "metadata": {},
     "output_type": "execute_result"
    }
   ],
   "source": [
    "site.allcategories()"
   ]
  },
  {
   "cell_type": "code",
   "execution_count": 43,
   "id": "d9763e0c-2b0f-4f05-8268-bc948f520b51",
   "metadata": {},
   "outputs": [
    {
     "name": "stdout",
     "output_type": "stream",
     "text": [
      "OrderedDict([('title', OrderedDict([('DateTime UTC', '2011-06-18 08:30:00'), ('DateTime UTC__precision', '0')]))])\n",
      "OrderedDict([('title', OrderedDict([('DateTime UTC', '2011-06-18 09:45:00'), ('DateTime UTC__precision', '0')]))])\n",
      "OrderedDict([('title', OrderedDict([('DateTime UTC', '2011-06-18 11:00:00'), ('DateTime UTC__precision', '0')]))])\n",
      "OrderedDict([('title', OrderedDict([('DateTime UTC', '2011-06-18 11:00:00'), ('DateTime UTC__precision', '0')]))])\n",
      "OrderedDict([('title', OrderedDict([('DateTime UTC', '2011-06-18 12:15:00'), ('DateTime UTC__precision', '0')]))])\n",
      "OrderedDict([('title', OrderedDict([('DateTime UTC', '2011-06-18 12:15:00'), ('DateTime UTC__precision', '0')]))])\n",
      "OrderedDict([('title', OrderedDict([('DateTime UTC', '2011-06-18 14:30:00'), ('DateTime UTC__precision', '0')]))])\n"
     ]
    }
   ],
   "source": [
    "for i,w in enumerate(response['cargoquery']):\n",
    "    print(w)\n",
    "    a = w\n",
    "    if i>5:\n",
    "        break"
   ]
  },
  {
   "cell_type": "code",
   "execution_count": 40,
   "id": "98c0d84d-f6bd-4d28-b949-11c771757f2d",
   "metadata": {},
   "outputs": [
    {
     "data": {
      "text/plain": [
       "collections.OrderedDict"
      ]
     },
     "execution_count": 40,
     "metadata": {},
     "output_type": "execute_result"
    }
   ],
   "source": [
    "type(response)"
   ]
  },
  {
   "cell_type": "code",
   "execution_count": 44,
   "id": "1e811f11-0ccf-447c-b818-a907f5cf3816",
   "metadata": {},
   "outputs": [
    {
     "data": {
      "text/plain": [
       "list"
      ]
     },
     "execution_count": 44,
     "metadata": {},
     "output_type": "execute_result"
    }
   ],
   "source": [
    "type(response['cargoquery'])"
   ]
  },
  {
   "cell_type": "code",
   "execution_count": 45,
   "id": "342b1419-c7c9-44b7-a457-bca05c8d3f63",
   "metadata": {},
   "outputs": [
    {
     "data": {
      "text/plain": [
       "collections.OrderedDict"
      ]
     },
     "execution_count": 45,
     "metadata": {},
     "output_type": "execute_result"
    }
   ],
   "source": [
    "type(response['cargoquery'][0])"
   ]
  },
  {
   "cell_type": "code",
   "execution_count": 48,
   "id": "2528272b-6bcd-42b8-8619-b065bd4b0413",
   "metadata": {},
   "outputs": [
    {
     "data": {
      "text/plain": [
       "collections.OrderedDict"
      ]
     },
     "execution_count": 48,
     "metadata": {},
     "output_type": "execute_result"
    }
   ],
   "source": [
    "type(response['cargoquery'][0]['title'])"
   ]
  },
  {
   "cell_type": "code",
   "execution_count": 49,
   "id": "1d8489f6-7524-41ee-b6fd-15b06bc059e4",
   "metadata": {},
   "outputs": [
    {
     "data": {
      "text/plain": [
       "odict_keys(['DateTime UTC', 'DateTime UTC__precision'])"
      ]
     },
     "execution_count": 49,
     "metadata": {},
     "output_type": "execute_result"
    }
   ],
   "source": [
    "response['cargoquery'][0]['title'].keys()"
   ]
  },
  {
   "cell_type": "code",
   "execution_count": 119,
   "id": "c332e758-8453-4c3e-bac5-113dc671ca38",
   "metadata": {},
   "outputs": [
    {
     "data": {
      "text/plain": [
       "OrderedDict([('cargoquery',\n",
       "              [OrderedDict([('title',\n",
       "                             OrderedDict([('Tournament',\n",
       "                                           'AllStars Latinoamerica 2022'),\n",
       "                                          ('DateTime UTC',\n",
       "                                           '2022-05-19 00:07:00'),\n",
       "                                          ('Team1', 'Saprissa Esports'),\n",
       "                                          ('Team2', 'Descuydado Esports'),\n",
       "                                          ('DateTime UTC__precision',\n",
       "                                           '0')]))]),\n",
       "               OrderedDict([('title',\n",
       "                             OrderedDict([('Tournament',\n",
       "                                           'AllStars Latinoamerica 2022'),\n",
       "                                          ('DateTime UTC',\n",
       "                                           '2022-05-19 01:09:00'),\n",
       "                                          ('Team1', 'Descuydado Esports'),\n",
       "                                          ('Team2', 'Zeu5 Bogota'),\n",
       "                                          ('DateTime UTC__precision',\n",
       "                                           '0')]))]),\n",
       "               OrderedDict([('title',\n",
       "                             OrderedDict([('Tournament',\n",
       "                                           'AllStars Latinoamerica 2022'),\n",
       "                                          ('DateTime UTC',\n",
       "                                           '2022-05-19 02:14:00'),\n",
       "                                          ('Team1', 'Zeu5 Bogota'),\n",
       "                                          ('Team2', 'Saprissa Esports'),\n",
       "                                          ('DateTime UTC__precision',\n",
       "                                           '0')]))])])])"
      ]
     },
     "execution_count": 119,
     "metadata": {},
     "output_type": "execute_result"
    }
   ],
   "source": [
    "response = site.api('cargoquery',\n",
    "\t\n",
    "\ttables = \"ScoreboardGames=SG\",\n",
    "\tfields = \"SG.Tournament, SG.DateTime_UTC, SG.Team1, SG.Team2\",\n",
    "\twhere = \"SG.DateTime_UTC >= '2019-08-01 00:00:00'\" #Results after Aug 1, 2019\n",
    "    limit = '3',\n",
    ")\n",
    "response"
   ]
  },
  {
   "cell_type": "markdown",
   "id": "08ae1afe-24ad-495a-a0a1-6e5662c86e15",
   "metadata": {},
   "source": [
    "## Red x Miners"
   ]
  },
  {
   "cell_type": "code",
   "execution_count": 74,
   "id": "11a08dee-854b-4b13-92e4-58eecef62a30",
   "metadata": {},
   "outputs": [],
   "source": [
    "GameId = '108211865723912221'"
   ]
  },
  {
   "cell_type": "code",
   "execution_count": 61,
   "id": "23aeb3a3-844d-40e9-9a83-a028ba7442d5",
   "metadata": {},
   "outputs": [],
   "source": [
    "MatchId = '108211865723912220'"
   ]
  },
  {
   "cell_type": "markdown",
   "id": "2c80edb7-729f-4da8-a0fe-760a580eabe8",
   "metadata": {},
   "source": [
    "## Teste API"
   ]
  },
  {
   "cell_type": "code",
   "execution_count": 62,
   "id": "38ab6008-2a11-4d7b-9987-ada25990067c",
   "metadata": {},
   "outputs": [],
   "source": [
    "response = site.api('cargoquery',\n",
    "\tlimit = '10',\n",
    "\ttables = \"MatchScheduleGame=MSG\",\n",
    "\tfields = \"MSG.GameId,MSG.MatchId,MSG.RiotPlatformGameId,MSG.RiotPlatformId,MSG.RiotGameId\",\n",
    "    where = f\"MSG.MatchId={MatchId}\"\n",
    ")"
   ]
  },
  {
   "cell_type": "code",
   "execution_count": 63,
   "id": "13b86302-d7a9-4932-8bd6-51d7884626ad",
   "metadata": {},
   "outputs": [
    {
     "data": {
      "text/plain": [
       "OrderedDict([('cargoquery', [])])"
      ]
     },
     "execution_count": 63,
     "metadata": {},
     "output_type": "execute_result"
    }
   ],
   "source": [
    "response"
   ]
  },
  {
   "cell_type": "markdown",
   "id": "9c6d38c7-8ca8-42e9-b1a4-48bcefc2014e",
   "metadata": {},
   "source": [
    "### Consultando a Liga"
   ]
  },
  {
   "cell_type": "code",
   "execution_count": 3,
   "id": "dbe70bbc-dda6-4177-9cd1-c90655f2abd4",
   "metadata": {},
   "outputs": [],
   "source": [
    "response = site.api('cargoquery',\n",
    "\ttables = \"MatchSchedule=MS\",\n",
    "\tfields = \"MS.DateTime_UTC,MS.MatchId\",\n",
    "    where = \"MS.DateTime_UTC >= '2022-06-18 00:00:00' AND MS.DateTime_UTC <= '2022-06-21 00:00:00' AND  MS.MatchId like '%CBLOL%'\" ,\n",
    "    limit = 'max',\n",
    ")"
   ]
  },
  {
   "cell_type": "code",
   "execution_count": 4,
   "id": "d1a58f75-0d44-4604-aecc-555b305dedba",
   "metadata": {},
   "outputs": [
    {
     "data": {
      "text/plain": [
       "15"
      ]
     },
     "execution_count": 4,
     "metadata": {},
     "output_type": "execute_result"
    }
   ],
   "source": [
    "len(response['cargoquery'])"
   ]
  },
  {
   "cell_type": "code",
   "execution_count": 5,
   "id": "b03d2f79-056f-4f5b-9a41-bd24f7f342e3",
   "metadata": {},
   "outputs": [
    {
     "name": "stdout",
     "output_type": "stream",
     "text": [
      "CBLOL/2022 Season/Split 2_Week 2_1\n",
      "CBLOL/2022 Season/Split 2_Week 2_2\n",
      "CBLOL/2022 Season/Split 2_Week 2_3\n",
      "CBLOL/2022 Season/Split 2_Week 2_4\n",
      "CBLOL/2022 Season/Split 2_Week 2_5\n",
      "CBLOL/2022 Season/Split 2_Week 2_6\n",
      "CBLOL/2022 Season/Split 2_Week 2_7\n",
      "CBLOL/2022 Season/Split 2_Week 2_8\n",
      "CBLOL/2022 Season/Split 2_Week 2_9\n",
      "CBLOL/2022 Season/Split 2_Week 2_10\n",
      "CBLOL Academy/2022 Season/Split 2_Week 2_1\n",
      "CBLOL Academy/2022 Season/Split 2_Week 2_2\n",
      "CBLOL Academy/2022 Season/Split 2_Week 2_3\n",
      "CBLOL Academy/2022 Season/Split 2_Week 2_4\n",
      "CBLOL Academy/2022 Season/Split 2_Week 2_5\n"
     ]
    }
   ],
   "source": [
    "CBLOL = []\n",
    "for i,match in enumerate(response['cargoquery']):\n",
    "    if 'CBLOL' in match['title']['MatchId']:\n",
    "        CBLOL.append(match)\n",
    "    print(match['title']['MatchId'])"
   ]
  },
  {
   "cell_type": "code",
   "execution_count": 6,
   "id": "ce9ee91b-d5c7-475b-a487-398f54182032",
   "metadata": {},
   "outputs": [
    {
     "data": {
      "text/plain": [
       "[OrderedDict([('title',\n",
       "               OrderedDict([('DateTime UTC', '2022-06-18 16:00:00'),\n",
       "                            ('MatchId', 'CBLOL/2022 Season/Split 2_Week 2_1'),\n",
       "                            ('DateTime UTC__precision', '0')]))]),\n",
       " OrderedDict([('title',\n",
       "               OrderedDict([('DateTime UTC', '2022-06-18 17:00:00'),\n",
       "                            ('MatchId', 'CBLOL/2022 Season/Split 2_Week 2_2'),\n",
       "                            ('DateTime UTC__precision', '0')]))])]"
      ]
     },
     "execution_count": 6,
     "metadata": {},
     "output_type": "execute_result"
    }
   ],
   "source": [
    "CBLOL[:2]"
   ]
  },
  {
   "cell_type": "code",
   "execution_count": 15,
   "id": "332ca82b-9ead-486a-a9f1-be2b542e2a34",
   "metadata": {},
   "outputs": [],
   "source": [
    "response = site.api('cargoquery',\n",
    "\ttables = \"MatchScheduleGame=MG,PostgameJsonMetadata=G\",\n",
    "    join_on = \"MG.GameId=G.GameId\",\n",
    "\tfields = \"MG.MatchId,MG.GameId,G.RiotPlatformGameId,G.RiotGameId,G.StatsPage,G.TimelinePage\",\n",
    "    where = \"MG.MatchId like '%CBLOL/2022 Season/Split%'\" ,\n",
    "    limit = 'max'\n",
    ")"
   ]
  },
  {
   "cell_type": "code",
   "execution_count": 16,
   "id": "95b6a15c-55b2-47eb-98b0-047605d86b37",
   "metadata": {},
   "outputs": [
    {
     "data": {
      "text/plain": [
       "213"
      ]
     },
     "execution_count": 16,
     "metadata": {},
     "output_type": "execute_result"
    }
   ],
   "source": [
    "len(response['cargoquery'])"
   ]
  },
  {
   "cell_type": "code",
   "execution_count": 17,
   "id": "d8c20f75-f08e-486a-838f-eca5c4f16150",
   "metadata": {},
   "outputs": [],
   "source": [
    "jsonData = json.dumps(response['cargoquery'])"
   ]
  },
  {
   "cell_type": "code",
   "execution_count": 18,
   "id": "d32c91d0-a305-43a9-8d39-23a5658a9a9a",
   "metadata": {},
   "outputs": [],
   "source": [
    "ParseData = jsonData.replace('''{\"title\\\":''','').replace(\"}}\",'}')"
   ]
  },
  {
   "cell_type": "code",
   "execution_count": 20,
   "id": "d833aeed-bee9-41c7-a002-f09c74e4a655",
   "metadata": {},
   "outputs": [],
   "source": [
    "df_cblol20022= pd.read_json(ParseData, orient = 'values' )"
   ]
  },
  {
   "cell_type": "code",
   "execution_count": 218,
   "id": "1f876dda-a31f-47b7-b34e-40ac14e3f3a0",
   "metadata": {},
   "outputs": [
    {
     "data": {
      "text/plain": [
       "'[{\"title\": {\"MatchId\": \"CBLOL/2022 Season/Split 2_Week 2_1\", \"GameId\": \"CBLOL/2022 Season/Split 2_Week 2_1_1\", \"RiotPlatformGameId\": \"ESPORTSTMNT03_2791281\", \"RiotGameId\": \"2791281\", \"StatsPage\": \"V5 data:ESPORTSTMNT03 2791281\", \"TimelinePage\": \"V5 data:ESPORTSTMNT03 2791281/Timeline\"}}, {\"title\": {\"MatchId\": \"CBLOL/2022 Season/Split 2_Week 2_10\", \"GameId\": \"CBLOL/2022 Season/Split 2_Week 2_10_1\", \"RiotPlatformGameId\": \"ESPORTSTMNT03_2792056\", \"RiotGameId\": \"2792056\", \"StatsPage\": \"V5 data:ESPORTSTMNT03 2792056\", \"TimelinePage\": \"V5 data:ESPORTSTMNT03 2792056/Timeline\"}}]'"
      ]
     },
     "execution_count": 218,
     "metadata": {},
     "output_type": "execute_result"
    }
   ],
   "source": [
    "siteTimeLine = mwclient.Site('lol.fandom.com', path=f'/')"
   ]
  },
  {
   "cell_type": "code",
   "execution_count": 28,
   "id": "95851f8f-0f66-4b67-be6e-a0f2a45c448b",
   "metadata": {},
   "outputs": [],
   "source": [
    "gamePath = df_cblol20022.TimelinePage[102]"
   ]
  },
  {
   "cell_type": "code",
   "execution_count": 40,
   "id": "7524383e-3560-4663-81c3-92a3cb4b2a91",
   "metadata": {},
   "outputs": [],
   "source": [
    "gameTimeLine = site.pages[gamePath]"
   ]
  },
  {
   "cell_type": "markdown",
   "id": "a30ed5c6-95af-43a5-90d5-0e58c1f28e30",
   "metadata": {},
   "source": [
    "## Conversão do JSON para dict"
   ]
  },
  {
   "cell_type": "code",
   "execution_count": 80,
   "id": "8f0927e4-5d09-4d83-8017-7d2bddd3cdd7",
   "metadata": {},
   "outputs": [],
   "source": [
    "dataJJSON = gameTimeLine.text()"
   ]
  },
  {
   "cell_type": "code",
   "execution_count": 93,
   "id": "0a981908-e1c4-44ef-93fc-70a00b9e1679",
   "metadata": {},
   "outputs": [
    {
     "data": {
      "text/plain": [
       "dict_keys(['frameInterval', 'frames', 'gameId', 'participants'])"
      ]
     },
     "execution_count": 93,
     "metadata": {},
     "output_type": "execute_result"
    }
   ],
   "source": [
    "timeLineDict = json.loads(dataJJSON)\n",
    "timeLineDict.keys()"
   ]
  },
  {
   "cell_type": "code",
   "execution_count": 123,
   "id": "95a5b2ba-d71c-4682-9a7d-6030edc67128",
   "metadata": {},
   "outputs": [
    {
     "data": {
      "text/plain": [
       "[{'participantId': 1},\n",
       " {'participantId': 2},\n",
       " {'participantId': 3},\n",
       " {'participantId': 4},\n",
       " {'participantId': 5},\n",
       " {'participantId': 6},\n",
       " {'participantId': 7},\n",
       " {'participantId': 8},\n",
       " {'participantId': 9},\n",
       " {'participantId': 10}]"
      ]
     },
     "execution_count": 123,
     "metadata": {},
     "output_type": "execute_result"
    }
   ],
   "source": [
    "timeLineDict.get('participants')"
   ]
  },
  {
   "cell_type": "markdown",
   "id": "7e55decb-4955-46e0-8936-1b9fb851bcaa",
   "metadata": {},
   "source": [
    "## Análise do timeLineDict"
   ]
  },
  {
   "cell_type": "markdown",
   "id": "fbfdcdfa-38e4-4c4e-a1b1-dc5f304ca138",
   "metadata": {},
   "source": [
    "https://pkg.go.dev/github.com/torlenor/alolstats/riotclient#MatchTimelineDTO"
   ]
  },
  {
   "cell_type": "code",
   "execution_count": 94,
   "id": "45fc2669-9cd9-4e1d-b9df-b47514af20fa",
   "metadata": {},
   "outputs": [
    {
     "data": {
      "text/plain": [
       "60000"
      ]
     },
     "execution_count": 94,
     "metadata": {},
     "output_type": "execute_result"
    }
   ],
   "source": [
    "timeLineDict['frameInterval']"
   ]
  },
  {
   "cell_type": "code",
   "execution_count": 100,
   "id": "b58c9f0b-fb30-4b40-a0e5-c2b775efb0c1",
   "metadata": {},
   "outputs": [
    {
     "data": {
      "text/plain": [
       "39"
      ]
     },
     "execution_count": 100,
     "metadata": {},
     "output_type": "execute_result"
    }
   ],
   "source": [
    "len(timeLineDict['frames'])"
   ]
  },
  {
   "cell_type": "code",
   "execution_count": 101,
   "id": "d0d976ab-b739-4a8b-a6e3-018b375bce01",
   "metadata": {},
   "outputs": [
    {
     "data": {
      "text/plain": [
       "dict"
      ]
     },
     "execution_count": 101,
     "metadata": {},
     "output_type": "execute_result"
    }
   ],
   "source": [
    "type(timeLineDict['frames'][0])"
   ]
  },
  {
   "cell_type": "code",
   "execution_count": 103,
   "id": "325efb7d-c25c-4a47-a1e2-4881929b119e",
   "metadata": {},
   "outputs": [
    {
     "data": {
      "text/plain": [
       "dict_keys(['events', 'participantFrames', 'timestamp'])"
      ]
     },
     "execution_count": 103,
     "metadata": {},
     "output_type": "execute_result"
    }
   ],
   "source": [
    "timeLineDict['frames'][0].keys()"
   ]
  },
  {
   "cell_type": "code",
   "execution_count": 111,
   "id": "a2e93aea-1d0c-4b60-967d-76f41e0538fc",
   "metadata": {},
   "outputs": [
    {
     "data": {
      "text/plain": [
       "[{'realTimestamp': 1646598185931, 'timestamp': 0, 'type': 'PAUSE_END'}]"
      ]
     },
     "execution_count": 111,
     "metadata": {},
     "output_type": "execute_result"
    }
   ],
   "source": [
    "timeLineDict['frames'][0]['events']"
   ]
  },
  {
   "cell_type": "code",
   "execution_count": 118,
   "id": "afbec80b-9b4b-46a4-b639-68789bd4c2c5",
   "metadata": {},
   "outputs": [
    {
     "name": "stdout",
     "output_type": "stream",
     "text": [
      "dict_keys(['events', 'participantFrames', 'timestamp'])\n",
      "[{'realTimestamp': 1646598185931, 'timestamp': 0, 'type': 'PAUSE_END'}]\n",
      "[{'realTimestamp': 1646598185931, 'timestamp': 0, 'type': 'PAUSE_END'}]\n",
      "dict_keys(['events', 'participantFrames', 'timestamp'])\n",
      "[{'itemId': 2033, 'participantId': 3, 'timestamp': 1978, 'type': 'ITEM_PURCHASED'}, {'itemId': 1039, 'participantId': 2, 'timestamp': 2144, 'type': 'ITEM_PURCHASED'}, {'itemId': 3340, 'participantId': 3, 'timestamp': 2342, 'type': 'ITEM_PURCHASED'}, {'itemId': 2031, 'participantId': 2, 'timestamp': 2738, 'type': 'ITEM_PURCHASED'}, {'itemId': 1035, 'participantId': 7, 'timestamp': 2804, 'type': 'ITEM_PURCHASED'}, {'itemId': 3340, 'participantId': 2, 'timestamp': 3002, 'type': 'ITEM_PURCHASED'}, {'itemId': 1036, 'participantId': 9, 'timestamp': 3135, 'type': 'ITEM_PURCHASED'}, {'itemId': 3340, 'participantId': 7, 'timestamp': 3168, 'type': 'ITEM_PURCHASED'}, {'itemId': 2031, 'participantId': 7, 'timestamp': 3399, 'type': 'ITEM_PURCHASED'}, {'itemId': 3850, 'participantId': 5, 'timestamp': 3432, 'type': 'ITEM_PURCHASED'}, {'itemId': 1036, 'participantId': 4, 'timestamp': 3465, 'type': 'ITEM_PURCHASED'}, {'itemId': 3340, 'participantId': 9, 'timestamp': 3729, 'type': 'ITEM_PURCHASED'}, {'itemId': 2003, 'participantId': 5, 'timestamp': 3795, 'type': 'ITEM_PURCHASED'}, {'itemId': 2003, 'participantId': 4, 'timestamp': 3927, 'type': 'ITEM_PURCHASED'}, {'itemId': 2003, 'participantId': 5, 'timestamp': 3927, 'type': 'ITEM_PURCHASED'}, {'itemId': 2003, 'participantId': 9, 'timestamp': 3927, 'type': 'ITEM_PURCHASED'}, {'itemId': 2003, 'participantId': 4, 'timestamp': 4059, 'type': 'ITEM_PURCHASED'}, {'itemId': 2003, 'participantId': 9, 'timestamp': 4092, 'type': 'ITEM_PURCHASED'}, {'itemId': 3340, 'participantId': 5, 'timestamp': 4125, 'type': 'ITEM_PURCHASED'}, {'itemId': 2003, 'participantId': 4, 'timestamp': 4192, 'type': 'ITEM_PURCHASED'}, {'itemId': 2003, 'participantId': 9, 'timestamp': 4225, 'type': 'ITEM_PURCHASED'}, {'itemId': 1036, 'participantId': 6, 'timestamp': 4324, 'type': 'ITEM_PURCHASED'}, {'itemId': 1054, 'participantId': 1, 'timestamp': 4720, 'type': 'ITEM_PURCHASED'}, {'itemId': 2033, 'participantId': 8, 'timestamp': 4753, 'type': 'ITEM_PURCHASED'}, {'itemId': 2003, 'participantId': 6, 'timestamp': 4753, 'type': 'ITEM_PURCHASED'}, {'itemId': 2003, 'participantId': 1, 'timestamp': 5153, 'type': 'ITEM_PURCHASED'}, {'itemId': 3340, 'participantId': 1, 'timestamp': 5352, 'type': 'ITEM_PURCHASED'}, {'itemId': 3340, 'participantId': 4, 'timestamp': 5385, 'type': 'ITEM_PURCHASED'}, {'itemId': 3858, 'participantId': 10, 'timestamp': 5484, 'type': 'ITEM_PURCHASED'}, {'itemId': 2003, 'participantId': 10, 'timestamp': 5484, 'type': 'ITEM_PURCHASED'}, {'itemId': 2003, 'participantId': 10, 'timestamp': 5484, 'type': 'ITEM_PURCHASED'}, {'afterId': 0, 'beforeId': 2003, 'goldGain': 50, 'participantId': 6, 'timestamp': 6012, 'type': 'ITEM_UNDO'}, {'itemId': 2031, 'participantId': 6, 'timestamp': 6508, 'type': 'ITEM_PURCHASED'}, {'itemId': 3340, 'participantId': 6, 'timestamp': 6739, 'type': 'ITEM_PURCHASED'}, {'levelUpType': 'NORMAL', 'participantId': 9, 'skillSlot': 1, 'timestamp': 21471, 'type': 'SKILL_LEVEL_UP'}, {'levelUpType': 'NORMAL', 'participantId': 2, 'skillSlot': 3, 'timestamp': 22231, 'type': 'SKILL_LEVEL_UP'}, {'creatorId': 5, 'timestamp': 28507, 'type': 'WARD_PLACED', 'wardType': 'YELLOW_TRINKET'}, {'levelUpType': 'NORMAL', 'participantId': 7, 'skillSlot': 1, 'timestamp': 35212, 'type': 'SKILL_LEVEL_UP'}, {'itemId': 3340, 'participantId': 5, 'timestamp': 39804, 'type': 'ITEM_DESTROYED'}, {'itemId': 3364, 'participantId': 5, 'timestamp': 39804, 'type': 'ITEM_PURCHASED'}, {'creatorId': 2, 'timestamp': 43404, 'type': 'WARD_PLACED', 'wardType': 'YELLOW_TRINKET'}, {'creatorId': 9, 'timestamp': 52884, 'type': 'WARD_PLACED', 'wardType': 'YELLOW_TRINKET'}, {'itemId': 3340, 'participantId': 2, 'timestamp': 53380, 'type': 'ITEM_DESTROYED'}, {'itemId': 3364, 'participantId': 2, 'timestamp': 53380, 'type': 'ITEM_PURCHASED'}]\n",
      "[{'itemId': 2033, 'participantId': 3, 'timestamp': 1978, 'type': 'ITEM_PURCHASED'}, {'itemId': 1039, 'participantId': 2, 'timestamp': 2144, 'type': 'ITEM_PURCHASED'}, {'itemId': 3340, 'participantId': 3, 'timestamp': 2342, 'type': 'ITEM_PURCHASED'}, {'itemId': 2031, 'participantId': 2, 'timestamp': 2738, 'type': 'ITEM_PURCHASED'}, {'itemId': 1035, 'participantId': 7, 'timestamp': 2804, 'type': 'ITEM_PURCHASED'}, {'itemId': 3340, 'participantId': 2, 'timestamp': 3002, 'type': 'ITEM_PURCHASED'}, {'itemId': 1036, 'participantId': 9, 'timestamp': 3135, 'type': 'ITEM_PURCHASED'}, {'itemId': 3340, 'participantId': 7, 'timestamp': 3168, 'type': 'ITEM_PURCHASED'}, {'itemId': 2031, 'participantId': 7, 'timestamp': 3399, 'type': 'ITEM_PURCHASED'}, {'itemId': 3850, 'participantId': 5, 'timestamp': 3432, 'type': 'ITEM_PURCHASED'}, {'itemId': 1036, 'participantId': 4, 'timestamp': 3465, 'type': 'ITEM_PURCHASED'}, {'itemId': 3340, 'participantId': 9, 'timestamp': 3729, 'type': 'ITEM_PURCHASED'}, {'itemId': 2003, 'participantId': 5, 'timestamp': 3795, 'type': 'ITEM_PURCHASED'}, {'itemId': 2003, 'participantId': 4, 'timestamp': 3927, 'type': 'ITEM_PURCHASED'}, {'itemId': 2003, 'participantId': 5, 'timestamp': 3927, 'type': 'ITEM_PURCHASED'}, {'itemId': 2003, 'participantId': 9, 'timestamp': 3927, 'type': 'ITEM_PURCHASED'}, {'itemId': 2003, 'participantId': 4, 'timestamp': 4059, 'type': 'ITEM_PURCHASED'}, {'itemId': 2003, 'participantId': 9, 'timestamp': 4092, 'type': 'ITEM_PURCHASED'}, {'itemId': 3340, 'participantId': 5, 'timestamp': 4125, 'type': 'ITEM_PURCHASED'}, {'itemId': 2003, 'participantId': 4, 'timestamp': 4192, 'type': 'ITEM_PURCHASED'}, {'itemId': 2003, 'participantId': 9, 'timestamp': 4225, 'type': 'ITEM_PURCHASED'}, {'itemId': 1036, 'participantId': 6, 'timestamp': 4324, 'type': 'ITEM_PURCHASED'}, {'itemId': 1054, 'participantId': 1, 'timestamp': 4720, 'type': 'ITEM_PURCHASED'}, {'itemId': 2033, 'participantId': 8, 'timestamp': 4753, 'type': 'ITEM_PURCHASED'}, {'itemId': 2003, 'participantId': 6, 'timestamp': 4753, 'type': 'ITEM_PURCHASED'}, {'itemId': 2003, 'participantId': 1, 'timestamp': 5153, 'type': 'ITEM_PURCHASED'}, {'itemId': 3340, 'participantId': 1, 'timestamp': 5352, 'type': 'ITEM_PURCHASED'}, {'itemId': 3340, 'participantId': 4, 'timestamp': 5385, 'type': 'ITEM_PURCHASED'}, {'itemId': 3858, 'participantId': 10, 'timestamp': 5484, 'type': 'ITEM_PURCHASED'}, {'itemId': 2003, 'participantId': 10, 'timestamp': 5484, 'type': 'ITEM_PURCHASED'}, {'itemId': 2003, 'participantId': 10, 'timestamp': 5484, 'type': 'ITEM_PURCHASED'}, {'afterId': 0, 'beforeId': 2003, 'goldGain': 50, 'participantId': 6, 'timestamp': 6012, 'type': 'ITEM_UNDO'}, {'itemId': 2031, 'participantId': 6, 'timestamp': 6508, 'type': 'ITEM_PURCHASED'}, {'itemId': 3340, 'participantId': 6, 'timestamp': 6739, 'type': 'ITEM_PURCHASED'}, {'levelUpType': 'NORMAL', 'participantId': 9, 'skillSlot': 1, 'timestamp': 21471, 'type': 'SKILL_LEVEL_UP'}, {'levelUpType': 'NORMAL', 'participantId': 2, 'skillSlot': 3, 'timestamp': 22231, 'type': 'SKILL_LEVEL_UP'}, {'creatorId': 5, 'timestamp': 28507, 'type': 'WARD_PLACED', 'wardType': 'YELLOW_TRINKET'}, {'levelUpType': 'NORMAL', 'participantId': 7, 'skillSlot': 1, 'timestamp': 35212, 'type': 'SKILL_LEVEL_UP'}, {'itemId': 3340, 'participantId': 5, 'timestamp': 39804, 'type': 'ITEM_DESTROYED'}, {'itemId': 3364, 'participantId': 5, 'timestamp': 39804, 'type': 'ITEM_PURCHASED'}, {'creatorId': 2, 'timestamp': 43404, 'type': 'WARD_PLACED', 'wardType': 'YELLOW_TRINKET'}, {'creatorId': 9, 'timestamp': 52884, 'type': 'WARD_PLACED', 'wardType': 'YELLOW_TRINKET'}, {'itemId': 3340, 'participantId': 2, 'timestamp': 53380, 'type': 'ITEM_DESTROYED'}, {'itemId': 3364, 'participantId': 2, 'timestamp': 53380, 'type': 'ITEM_PURCHASED'}]\n"
     ]
    }
   ],
   "source": [
    "for i,frame  in enumerate(timeLineDict['frames']):\n",
    "    \n",
    "    print(frame.keys())\n",
    "    print(frame.get('events'))\n",
    "    print(frame['events'])\n",
    "    if i>0:\n",
    "        break"
   ]
  },
  {
   "cell_type": "code",
   "execution_count": 121,
   "id": "998d7ae6-c1eb-4e96-b9f8-96abcffb7bfc",
   "metadata": {},
   "outputs": [
    {
     "data": {
      "text/plain": [
       "list"
      ]
     },
     "execution_count": 121,
     "metadata": {},
     "output_type": "execute_result"
    }
   ],
   "source": [
    "type(timeLineDict['frames'][1]['events'])"
   ]
  },
  {
   "cell_type": "code",
   "execution_count": 125,
   "id": "59ebf64b-af23-47e4-9d18-b020b70937c8",
   "metadata": {},
   "outputs": [
    {
     "data": {
      "text/plain": [
       "dict_keys(['frameInterval', 'frames', 'gameId', 'participants'])"
      ]
     },
     "execution_count": 125,
     "metadata": {},
     "output_type": "execute_result"
    }
   ],
   "source": [
    "timeLineDict.keys()"
   ]
  },
  {
   "cell_type": "code",
   "execution_count": 130,
   "id": "5c0b63da-8440-4420-95f9-f7fc77679809",
   "metadata": {},
   "outputs": [
    {
     "data": {
      "text/plain": [
       "dict_keys(['events', 'participantFrames', 'timestamp'])"
      ]
     },
     "execution_count": 130,
     "metadata": {},
     "output_type": "execute_result"
    }
   ],
   "source": [
    "timeLineDict.get('frames')[0].keys()"
   ]
  },
  {
   "cell_type": "code",
   "execution_count": 131,
   "id": "b7baa487-fc26-476c-af58-91b9319bf53a",
   "metadata": {},
   "outputs": [
    {
     "data": {
      "text/plain": [
       "dict_keys(['events', 'participantFrames', 'timestamp'])"
      ]
     },
     "execution_count": 131,
     "metadata": {},
     "output_type": "execute_result"
    }
   ],
   "source": [
    "timeLineDict.get('frames')[1].keys()"
   ]
  },
  {
   "cell_type": "code",
   "execution_count": 137,
   "id": "4c63f1e0-e732-4c97-b099-43a91155ee62",
   "metadata": {},
   "outputs": [
    {
     "data": {
      "text/plain": [
       "{'participantId': 1}"
      ]
     },
     "execution_count": 137,
     "metadata": {},
     "output_type": "execute_result"
    }
   ],
   "source": [
    "timeLineDict.get('participants')[0]"
   ]
  },
  {
   "cell_type": "code",
   "execution_count": 140,
   "id": "b05010ac-82bb-44f0-944f-4ec61b2cd1a3",
   "metadata": {},
   "outputs": [
    {
     "data": {
      "text/plain": [
       "dict_keys(['championStats', 'currentGold', 'damageStats', 'goldPerSecond', 'jungleMinionsKilled', 'level', 'minionsKilled', 'participantId', 'position', 'timeEnemySpentControlled', 'totalGold', 'xp'])"
      ]
     },
     "execution_count": 140,
     "metadata": {},
     "output_type": "execute_result"
    }
   ],
   "source": [
    "timeLineDict.get('frames')[0]['participantFrames']['1'].keys()"
   ]
  },
  {
   "cell_type": "code",
   "execution_count": 141,
   "id": "8feb2b60-2f12-4f77-bbfb-afbedf1111f9",
   "metadata": {},
   "outputs": [
    {
     "data": {
      "text/plain": [
       "{'x': 554, 'y': 581}"
      ]
     },
     "execution_count": 141,
     "metadata": {},
     "output_type": "execute_result"
    }
   ],
   "source": [
    "timeLineDict.get('frames')[0]['participantFrames']['1']['position']"
   ]
  },
  {
   "cell_type": "code",
   "execution_count": 142,
   "id": "073aa7dd-b7cd-4cb9-9da9-1e0b5c1924b6",
   "metadata": {},
   "outputs": [
    {
     "data": {
      "text/plain": [
       "1673511"
      ]
     },
     "execution_count": 142,
     "metadata": {},
     "output_type": "execute_result"
    }
   ],
   "source": [
    "len(dataJJSON)"
   ]
  },
  {
   "cell_type": "code",
   "execution_count": 146,
   "id": "bf11bc16-5eb0-4760-8bdf-8613f0818997",
   "metadata": {},
   "outputs": [],
   "source": [
    "with open(\"gameTimeLine.json\", \"w\") as outfile: \n",
    "    outfile.write(dataJJSON)"
   ]
  },
  {
   "cell_type": "code",
   "execution_count": null,
   "id": "ad6e28a8-c0bc-48ed-b760-f8df3e8f1435",
   "metadata": {},
   "outputs": [],
   "source": []
  }
 ],
 "metadata": {
  "kernelspec": {
   "display_name": "Python 3 (ipykernel)",
   "language": "python",
   "name": "python3"
  },
  "language_info": {
   "codemirror_mode": {
    "name": "ipython",
    "version": 3
   },
   "file_extension": ".py",
   "mimetype": "text/x-python",
   "name": "python",
   "nbconvert_exporter": "python",
   "pygments_lexer": "ipython3",
   "version": "3.8.10"
  }
 },
 "nbformat": 4,
 "nbformat_minor": 5
}
